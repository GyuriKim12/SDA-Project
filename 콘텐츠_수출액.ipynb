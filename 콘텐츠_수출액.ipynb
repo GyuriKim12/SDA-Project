{
 "cells": [
  {
   "cell_type": "code",
   "execution_count": 13,
   "id": "a5160c46-6c8f-4845-8806-d4e0ad2ace88",
   "metadata": {},
   "outputs": [],
   "source": [
    "import pandas as pd\n",
    "import seaborn as sns\n",
    "import numpy as np\n",
    "from scipy import stats\n",
    "import matplotlib.pyplot as plt "
   ]
  },
  {
   "cell_type": "code",
   "execution_count": 14,
   "id": "bb019b3b-ee23-4df9-925c-0bb12cdba445",
   "metadata": {},
   "outputs": [
    {
     "data": {
      "text/html": [
       "<div>\n",
       "<style scoped>\n",
       "    .dataframe tbody tr th:only-of-type {\n",
       "        vertical-align: middle;\n",
       "    }\n",
       "\n",
       "    .dataframe tbody tr th {\n",
       "        vertical-align: top;\n",
       "    }\n",
       "\n",
       "    .dataframe thead th {\n",
       "        text-align: right;\n",
       "    }\n",
       "</style>\n",
       "<table border=\"1\" class=\"dataframe\">\n",
       "  <thead>\n",
       "    <tr style=\"text-align: right;\">\n",
       "      <th></th>\n",
       "      <th>구분(1)</th>\n",
       "      <th>항목</th>\n",
       "      <th>2016</th>\n",
       "      <th>2017</th>\n",
       "      <th>2018</th>\n",
       "      <th>2019</th>\n",
       "      <th>2020</th>\n",
       "    </tr>\n",
       "  </thead>\n",
       "  <tbody>\n",
       "    <tr>\n",
       "      <th>0</th>\n",
       "      <td>합계</td>\n",
       "      <td>수출액</td>\n",
       "      <td>6008063</td>\n",
       "      <td>8814441.0</td>\n",
       "      <td>9615036.0</td>\n",
       "      <td>10189026.0</td>\n",
       "      <td>11924284.0</td>\n",
       "    </tr>\n",
       "    <tr>\n",
       "      <th>1</th>\n",
       "      <td>합계</td>\n",
       "      <td>비중</td>\n",
       "      <td>100</td>\n",
       "      <td>100.0</td>\n",
       "      <td>100.0</td>\n",
       "      <td>100.0</td>\n",
       "      <td>100.0</td>\n",
       "    </tr>\n",
       "    <tr>\n",
       "      <th>2</th>\n",
       "      <td>합계</td>\n",
       "      <td>전년대비증감률</td>\n",
       "      <td>6.1</td>\n",
       "      <td>46.7</td>\n",
       "      <td>9.1</td>\n",
       "      <td>6.0</td>\n",
       "      <td>16.3</td>\n",
       "    </tr>\n",
       "    <tr>\n",
       "      <th>3</th>\n",
       "      <td>합계</td>\n",
       "      <td>연평균증감률</td>\n",
       "      <td>6.8</td>\n",
       "      <td>15.7</td>\n",
       "      <td>16.2</td>\n",
       "      <td>15.8</td>\n",
       "      <td>18.7</td>\n",
       "    </tr>\n",
       "    <tr>\n",
       "      <th>4</th>\n",
       "      <td>출판</td>\n",
       "      <td>수출액</td>\n",
       "      <td>187388</td>\n",
       "      <td>220951.0</td>\n",
       "      <td>248991.0</td>\n",
       "      <td>214732.0</td>\n",
       "      <td>345960.0</td>\n",
       "    </tr>\n",
       "  </tbody>\n",
       "</table>\n",
       "</div>"
      ],
      "text/plain": [
       "  구분(1)       항목     2016       2017       2018        2019        2020\n",
       "0    합계      수출액  6008063  8814441.0  9615036.0  10189026.0  11924284.0\n",
       "1    합계       비중      100      100.0      100.0       100.0       100.0\n",
       "2    합계  전년대비증감률      6.1       46.7        9.1         6.0        16.3\n",
       "3    합계   연평균증감률      6.8       15.7       16.2        15.8        18.7\n",
       "4    출판      수출액   187388   220951.0   248991.0    214732.0    345960.0"
      ]
     },
     "execution_count": 14,
     "metadata": {},
     "output_type": "execute_result"
    }
   ],
   "source": [
    "data=pd.read_csv(\"콘텐츠산업_수출액_현황.csv\",encoding = \"CP949\")\n",
    "data.head()"
   ]
  },
  {
   "cell_type": "code",
   "execution_count": 15,
   "id": "7c68c909-8eee-482d-b72f-a399fee7eec2",
   "metadata": {},
   "outputs": [
    {
     "data": {
      "text/html": [
       "<div>\n",
       "<style scoped>\n",
       "    .dataframe tbody tr th:only-of-type {\n",
       "        vertical-align: middle;\n",
       "    }\n",
       "\n",
       "    .dataframe tbody tr th {\n",
       "        vertical-align: top;\n",
       "    }\n",
       "\n",
       "    .dataframe thead th {\n",
       "        text-align: right;\n",
       "    }\n",
       "</style>\n",
       "<table border=\"1\" class=\"dataframe\">\n",
       "  <thead>\n",
       "    <tr style=\"text-align: right;\">\n",
       "      <th></th>\n",
       "      <th>2016</th>\n",
       "      <th>2017</th>\n",
       "      <th>2018</th>\n",
       "      <th>2019</th>\n",
       "      <th>2020</th>\n",
       "    </tr>\n",
       "  </thead>\n",
       "  <tbody>\n",
       "    <tr>\n",
       "      <th>합계</th>\n",
       "      <td>6008063</td>\n",
       "      <td>8814441.0</td>\n",
       "      <td>9615036.0</td>\n",
       "      <td>10189026.0</td>\n",
       "      <td>11924284.0</td>\n",
       "    </tr>\n",
       "    <tr>\n",
       "      <th>출판</th>\n",
       "      <td>187388</td>\n",
       "      <td>220951.0</td>\n",
       "      <td>248991.0</td>\n",
       "      <td>214732.0</td>\n",
       "      <td>345960.0</td>\n",
       "    </tr>\n",
       "    <tr>\n",
       "      <th>만화</th>\n",
       "      <td>32482</td>\n",
       "      <td>35262.0</td>\n",
       "      <td>40501.0</td>\n",
       "      <td>46010.0</td>\n",
       "      <td>62715.0</td>\n",
       "    </tr>\n",
       "    <tr>\n",
       "      <th>음악</th>\n",
       "      <td>442566</td>\n",
       "      <td>512580.0</td>\n",
       "      <td>564236.0</td>\n",
       "      <td>756198.0</td>\n",
       "      <td>679633.0</td>\n",
       "    </tr>\n",
       "    <tr>\n",
       "      <th>영화</th>\n",
       "      <td>43894</td>\n",
       "      <td>40726.0</td>\n",
       "      <td>41607.0</td>\n",
       "      <td>37877.0</td>\n",
       "      <td>54157.0</td>\n",
       "    </tr>\n",
       "    <tr>\n",
       "      <th>게임</th>\n",
       "      <td>3277346</td>\n",
       "      <td>5922998.0</td>\n",
       "      <td>6411491.0</td>\n",
       "      <td>6657777.0</td>\n",
       "      <td>8193562.0</td>\n",
       "    </tr>\n",
       "    <tr>\n",
       "      <th>애니메이션</th>\n",
       "      <td>135622</td>\n",
       "      <td>144870.0</td>\n",
       "      <td>174517.0</td>\n",
       "      <td>194148.0</td>\n",
       "      <td>134532.0</td>\n",
       "    </tr>\n",
       "    <tr>\n",
       "      <th>방송</th>\n",
       "      <td>411212</td>\n",
       "      <td>362403.0</td>\n",
       "      <td>478447.0</td>\n",
       "      <td>474359.0</td>\n",
       "      <td>692790.0</td>\n",
       "    </tr>\n",
       "    <tr>\n",
       "      <th>광고</th>\n",
       "      <td>109804</td>\n",
       "      <td>93230.0</td>\n",
       "      <td>61293.0</td>\n",
       "      <td>139083.0</td>\n",
       "      <td>119935.0</td>\n",
       "    </tr>\n",
       "    <tr>\n",
       "      <th>캐릭터</th>\n",
       "      <td>612842</td>\n",
       "      <td>663853.0</td>\n",
       "      <td>745142.0</td>\n",
       "      <td>791338.0</td>\n",
       "      <td>715816.0</td>\n",
       "    </tr>\n",
       "    <tr>\n",
       "      <th>지식정보</th>\n",
       "      <td>566412</td>\n",
       "      <td>616061.0</td>\n",
       "      <td>633878.0</td>\n",
       "      <td>649623.0</td>\n",
       "      <td>691987.0</td>\n",
       "    </tr>\n",
       "    <tr>\n",
       "      <th>콘텐츠솔루션</th>\n",
       "      <td>188495</td>\n",
       "      <td>201508.0</td>\n",
       "      <td>214933.0</td>\n",
       "      <td>227881.0</td>\n",
       "      <td>233196.0</td>\n",
       "    </tr>\n",
       "  </tbody>\n",
       "</table>\n",
       "</div>"
      ],
      "text/plain": [
       "           2016       2017       2018        2019        2020\n",
       "합계      6008063  8814441.0  9615036.0  10189026.0  11924284.0\n",
       "출판       187388   220951.0   248991.0    214732.0    345960.0\n",
       "만화        32482    35262.0    40501.0     46010.0     62715.0\n",
       "음악       442566   512580.0   564236.0    756198.0    679633.0\n",
       "영화        43894    40726.0    41607.0     37877.0     54157.0\n",
       "게임      3277346  5922998.0  6411491.0   6657777.0   8193562.0\n",
       "애니메이션    135622   144870.0   174517.0    194148.0    134532.0\n",
       "방송       411212   362403.0   478447.0    474359.0    692790.0\n",
       "광고       109804    93230.0    61293.0    139083.0    119935.0\n",
       "캐릭터      612842   663853.0   745142.0    791338.0    715816.0\n",
       "지식정보     566412   616061.0   633878.0    649623.0    691987.0\n",
       "콘텐츠솔루션   188495   201508.0   214933.0    227881.0    233196.0"
      ]
     },
     "execution_count": 15,
     "metadata": {},
     "output_type": "execute_result"
    }
   ],
   "source": [
    "data=data[data[\"항목\"]==\"수출액\"]\n",
    "data = data.drop(['구분(1)', '항목'], axis=1)\n",
    "data.reset_index(drop=True,inplace=True)\n",
    "data=data.rename(index={0:\"합계\",1:\"출판\",2:\"만화\",3:\"음악\",4:\"영화\",5:\"게임\",6:\"애니메이션\",7:\"방송\",8:\"광고\",9:\"캐릭터\",10:\"지식정보\",11:\"콘텐츠솔루션\"})\n",
    "data"
   ]
  },
  {
   "cell_type": "code",
   "execution_count": 18,
   "id": "9cdb592c-f159-4d5b-99c8-8fb340468615",
   "metadata": {},
   "outputs": [
    {
     "data": {
      "text/plain": [
       "<AxesSubplot:>"
      ]
     },
     "execution_count": 18,
     "metadata": {},
     "output_type": "execute_result"
    },
    {
     "name": "stderr",
     "output_type": "stream",
     "text": [
      "/Users/hyeyeon/opt/anaconda3/lib/python3.9/site-packages/IPython/core/pylabtools.py:151: UserWarning: Glyph 52636 (\\N{HANGUL SYLLABLE CUL}) missing from current font.\n",
      "  fig.canvas.print_figure(bytes_io, **kw)\n",
      "/Users/hyeyeon/opt/anaconda3/lib/python3.9/site-packages/IPython/core/pylabtools.py:151: UserWarning: Glyph 54032 (\\N{HANGUL SYLLABLE PAN}) missing from current font.\n",
      "  fig.canvas.print_figure(bytes_io, **kw)\n"
     ]
    },
    {
     "data": {
      "image/png": "[encoded data removed]",
      "text/plain": [
       "<Figure size 432x288 with 1 Axes>"
      ]
     },
     "metadata": {
      "needs_background": "light"
     },
     "output_type": "display_data"
    }
   ],
   "source": [
    "df=data.loc[['출판']]\n",
    "df.plot(kind='bar')"
   ]
  },
  {
   "cell_type": "code",
   "execution_count": 17,
   "id": "88fa6252-ed86-4195-bdbd-c7e04efed0f9",
   "metadata": {},
   "outputs": [],
   "source": [
    "# import matplotlib.pyplot as plt\n",
    "\n",
    "# # 가능한 font list 확인\n",
    "# import matplotlib.font_manager as fm\n",
    "# f = [f.name for f in fm.fontManager.ttflist]\n",
    "# print(f)\n",
    "\n",
    "# # 확인 이후\n",
    "# plt.rc('font', family='NanumGothic')"
   ]
  },
  {
   "cell_type": "code",
   "execution_count": null,
   "id": "8f1a265e-d7d2-47aa-8006-16ccd1f35413",
   "metadata": {},
   "outputs": [],
   "source": [
    "data.dtypes\n",
    "data = data.astype('float')"
   ]
  },
  {
   "cell_type": "code",
   "execution_count": null,
   "id": "04b85a04-e9a7-45bf-9eab-4c64ab18a080",
   "metadata": {},
   "outputs": [],
   "source": [
    "import matplotlib as mpl\n",
    "mpl.rcParams['font.family']='NanumGothic'\n",
    "\n",
    "plt.rcParams[\"figure.figsize\"] = (10,10)\n",
    "plt.rcParams['lines.linewidth'] = 2\n",
    "plt.rcParams['lines.color'] = 'r'\n",
    "plt.rcParams['axes.grid'] = True\n",
    "\n",
    "plt.plot(data,label=[2016,2017,2018,2019,2020])\n",
    "plt.legend()\n",
    "plt.show()"
   ]
  },
  {
   "cell_type": "code",
   "execution_count": null,
   "id": "27d2d560-c616-472e-b626-eb4e785e6397",
   "metadata": {},
   "outputs": [],
   "source": []
  },
  {
   "cell_type": "code",
   "execution_count": null,
   "id": "8a94edce-a503-4b74-a442-22611ae253a4",
   "metadata": {},
   "outputs": [],
   "source": []
  },
  {
   "cell_type": "code",
   "execution_count": null,
   "id": "11136065-1d3b-4624-b18b-5723cf9d0b3d",
   "metadata": {},
   "outputs": [],
   "source": []
  }
 ],
 "metadata": {
  "kernelspec": {
   "display_name": "Python 3 (ipykernel)",
   "language": "python",
   "name": "python3"
  },
  "language_info": {
   "codemirror_mode": {
    "name": "ipython",
    "version": 3
   },
   "file_extension": ".py",
   "mimetype": "text/x-python",
   "name": "python",
   "nbconvert_exporter": "python",
   "pygments_lexer": "ipython3",
   "version": "3.9.12"
  }
 },
 "nbformat": 4,
 "nbformat_minor": 5
}
