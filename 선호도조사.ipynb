{
 "cells": [
  {
   "cell_type": "code",
   "execution_count": 1,
   "id": "814aab7b-183c-40e1-8e5e-bc547bcf0949",
   "metadata": {},
   "outputs": [],
   "source": [
    "import pandas as pd\n",
    "import seaborn as sns\n",
    "import numpy as np\n",
    "from scipy import stats\n",
    "import matplotlib.pyplot as plt"
   ]
  },
  {
   "cell_type": "code",
   "execution_count": 2,
   "id": "7882797c-8f72-4d88-845f-8a7cb5e00c23",
   "metadata": {},
   "outputs": [],
   "source": [
    "data=pd.read_csv(\"한국문화컨텐츠 선호도 조사.csv\")"
   ]
  },
  {
   "cell_type": "code",
   "execution_count": 3,
   "id": "b2f62f62-3418-4923-8b67-92f29bad6733",
   "metadata": {},
   "outputs": [
    {
     "data": {
      "text/html": [
       "<div>\n",
       "<style scoped>\n",
       "    .dataframe tbody tr th:only-of-type {\n",
       "        vertical-align: middle;\n",
       "    }\n",
       "\n",
       "    .dataframe tbody tr th {\n",
       "        vertical-align: top;\n",
       "    }\n",
       "\n",
       "    .dataframe thead th {\n",
       "        text-align: right;\n",
       "    }\n",
       "</style>\n",
       "<table border=\"1\" class=\"dataframe\">\n",
       "  <thead>\n",
       "    <tr style=\"text-align: right;\">\n",
       "      <th></th>\n",
       "      <th>POPULAR_DGREE_CN</th>\n",
       "      <th>ALL_TOTAL_CO</th>\n",
       "      <th>MALE_RATE</th>\n",
       "      <th>FEMALE_RATE</th>\n",
       "      <th>ALL_N10S_RATE</th>\n",
       "      <th>ALL_N20S_RATE</th>\n",
       "      <th>ALL_N30S_RATE</th>\n",
       "      <th>ALL_N40S_RATE</th>\n",
       "      <th>ALL_N50S_RATE</th>\n",
       "      <th>REPRT_YEAR_CN</th>\n",
       "      <th>EXAMIN_COUNTRY_NM</th>\n",
       "      <th>CNTNTS_URL</th>\n",
       "    </tr>\n",
       "  </thead>\n",
       "  <tbody>\n",
       "    <tr>\n",
       "      <th>0</th>\n",
       "      <td>대중적 인기</td>\n",
       "      <td>34</td>\n",
       "      <td>34.0</td>\n",
       "      <td>34.8</td>\n",
       "      <td>32.0</td>\n",
       "      <td>35.2</td>\n",
       "      <td>32.8</td>\n",
       "      <td>38.5</td>\n",
       "      <td>33.3</td>\n",
       "      <td>2020</td>\n",
       "      <td>중국</td>\n",
       "      <td>드라마</td>\n",
       "    </tr>\n",
       "    <tr>\n",
       "      <th>1</th>\n",
       "      <td>보통 인기</td>\n",
       "      <td>39</td>\n",
       "      <td>36.4</td>\n",
       "      <td>40.8</td>\n",
       "      <td>35.2</td>\n",
       "      <td>40.8</td>\n",
       "      <td>44.0</td>\n",
       "      <td>33.7</td>\n",
       "      <td>38.1</td>\n",
       "      <td>2020</td>\n",
       "      <td>중국</td>\n",
       "      <td>드라마</td>\n",
       "    </tr>\n",
       "    <tr>\n",
       "      <th>2</th>\n",
       "      <td>소수 마니아 인기</td>\n",
       "      <td>23</td>\n",
       "      <td>26.4</td>\n",
       "      <td>20.4</td>\n",
       "      <td>28.0</td>\n",
       "      <td>21.6</td>\n",
       "      <td>20.8</td>\n",
       "      <td>23.1</td>\n",
       "      <td>23.8</td>\n",
       "      <td>2020</td>\n",
       "      <td>중국</td>\n",
       "      <td>드라마</td>\n",
       "    </tr>\n",
       "    <tr>\n",
       "      <th>3</th>\n",
       "      <td>거의 이용 안함</td>\n",
       "      <td>4</td>\n",
       "      <td>3.2</td>\n",
       "      <td>4.0</td>\n",
       "      <td>4.8</td>\n",
       "      <td>2.4</td>\n",
       "      <td>2.4</td>\n",
       "      <td>4.8</td>\n",
       "      <td>4.8</td>\n",
       "      <td>2020</td>\n",
       "      <td>중국</td>\n",
       "      <td>드라마</td>\n",
       "    </tr>\n",
       "    <tr>\n",
       "      <th>4</th>\n",
       "      <td>대중적 인기</td>\n",
       "      <td>33</td>\n",
       "      <td>30.8</td>\n",
       "      <td>34.4</td>\n",
       "      <td>32.0</td>\n",
       "      <td>38.4</td>\n",
       "      <td>31.2</td>\n",
       "      <td>27.9</td>\n",
       "      <td>33.3</td>\n",
       "      <td>2020</td>\n",
       "      <td>중국</td>\n",
       "      <td>예능</td>\n",
       "    </tr>\n",
       "    <tr>\n",
       "      <th>...</th>\n",
       "      <td>...</td>\n",
       "      <td>...</td>\n",
       "      <td>...</td>\n",
       "      <td>...</td>\n",
       "      <td>...</td>\n",
       "      <td>...</td>\n",
       "      <td>...</td>\n",
       "      <td>...</td>\n",
       "      <td>...</td>\n",
       "      <td>...</td>\n",
       "      <td>...</td>\n",
       "      <td>...</td>\n",
       "    </tr>\n",
       "    <tr>\n",
       "      <th>3621</th>\n",
       "      <td>이용하는 사람이 거의 없다</td>\n",
       "      <td>12</td>\n",
       "      <td>14.5</td>\n",
       "      <td>9.5</td>\n",
       "      <td>14.0</td>\n",
       "      <td>9.0</td>\n",
       "      <td>9.0</td>\n",
       "      <td>18.2</td>\n",
       "      <td>0.0</td>\n",
       "      <td>2021</td>\n",
       "      <td>남아공</td>\n",
       "      <td>음식</td>\n",
       "    </tr>\n",
       "    <tr>\n",
       "      <th>3622</th>\n",
       "      <td>일부 매니아증에서 인기가 있는 상태</td>\n",
       "      <td>16</td>\n",
       "      <td>17.0</td>\n",
       "      <td>15.0</td>\n",
       "      <td>18.0</td>\n",
       "      <td>16.0</td>\n",
       "      <td>16.0</td>\n",
       "      <td>13.6</td>\n",
       "      <td>16.7</td>\n",
       "      <td>2021</td>\n",
       "      <td>남아공</td>\n",
       "      <td>음식</td>\n",
       "    </tr>\n",
       "    <tr>\n",
       "      <th>3623</th>\n",
       "      <td>일부 매니아층 뿐만 아니라 일반인들도 상당수 인지</td>\n",
       "      <td>33</td>\n",
       "      <td>33.5</td>\n",
       "      <td>32.0</td>\n",
       "      <td>31.0</td>\n",
       "      <td>27.0</td>\n",
       "      <td>33.0</td>\n",
       "      <td>35.2</td>\n",
       "      <td>75.0</td>\n",
       "      <td>2021</td>\n",
       "      <td>남아공</td>\n",
       "      <td>음식</td>\n",
       "    </tr>\n",
       "    <tr>\n",
       "      <th>3624</th>\n",
       "      <td>일반인에게 널리 알려져 있고 관련 상품이 판매됨</td>\n",
       "      <td>23</td>\n",
       "      <td>20.5</td>\n",
       "      <td>25.5</td>\n",
       "      <td>21.0</td>\n",
       "      <td>25.0</td>\n",
       "      <td>28.0</td>\n",
       "      <td>20.5</td>\n",
       "      <td>0.0</td>\n",
       "      <td>2021</td>\n",
       "      <td>남아공</td>\n",
       "      <td>음식</td>\n",
       "    </tr>\n",
       "    <tr>\n",
       "      <th>3625</th>\n",
       "      <td>일반인에게 널리 인기 있고 관련 상품의 판매가 원활</td>\n",
       "      <td>16</td>\n",
       "      <td>14.5</td>\n",
       "      <td>18.0</td>\n",
       "      <td>16.0</td>\n",
       "      <td>23.0</td>\n",
       "      <td>14.0</td>\n",
       "      <td>12.5</td>\n",
       "      <td>8.3</td>\n",
       "      <td>2021</td>\n",
       "      <td>남아공</td>\n",
       "      <td>음식</td>\n",
       "    </tr>\n",
       "  </tbody>\n",
       "</table>\n",
       "<p>3626 rows × 12 columns</p>\n",
       "</div>"
      ],
      "text/plain": [
       "                  POPULAR_DGREE_CN  ALL_TOTAL_CO  MALE_RATE  FEMALE_RATE  \\\n",
       "0                           대중적 인기            34       34.0         34.8   \n",
       "1                            보통 인기            39       36.4         40.8   \n",
       "2                        소수 마니아 인기            23       26.4         20.4   \n",
       "3                         거의 이용 안함             4        3.2          4.0   \n",
       "4                           대중적 인기            33       30.8         34.4   \n",
       "...                            ...           ...        ...          ...   \n",
       "3621                이용하는 사람이 거의 없다            12       14.5          9.5   \n",
       "3622           일부 매니아증에서 인기가 있는 상태            16       17.0         15.0   \n",
       "3623   일부 매니아층 뿐만 아니라 일반인들도 상당수 인지            33       33.5         32.0   \n",
       "3624    일반인에게 널리 알려져 있고 관련 상품이 판매됨            23       20.5         25.5   \n",
       "3625  일반인에게 널리 인기 있고 관련 상품의 판매가 원활            16       14.5         18.0   \n",
       "\n",
       "      ALL_N10S_RATE  ALL_N20S_RATE  ALL_N30S_RATE  ALL_N40S_RATE  \\\n",
       "0              32.0           35.2           32.8           38.5   \n",
       "1              35.2           40.8           44.0           33.7   \n",
       "2              28.0           21.6           20.8           23.1   \n",
       "3               4.8            2.4            2.4            4.8   \n",
       "4              32.0           38.4           31.2           27.9   \n",
       "...             ...            ...            ...            ...   \n",
       "3621           14.0            9.0            9.0           18.2   \n",
       "3622           18.0           16.0           16.0           13.6   \n",
       "3623           31.0           27.0           33.0           35.2   \n",
       "3624           21.0           25.0           28.0           20.5   \n",
       "3625           16.0           23.0           14.0           12.5   \n",
       "\n",
       "      ALL_N50S_RATE REPRT_YEAR_CN EXAMIN_COUNTRY_NM CNTNTS_URL  \n",
       "0              33.3          2020                중국        드라마  \n",
       "1              38.1          2020                중국        드라마  \n",
       "2              23.8          2020                중국        드라마  \n",
       "3               4.8          2020                중국        드라마  \n",
       "4              33.3          2020                중국         예능  \n",
       "...             ...           ...               ...        ...  \n",
       "3621            0.0          2021               남아공         음식  \n",
       "3622           16.7          2021               남아공         음식  \n",
       "3623           75.0          2021               남아공         음식  \n",
       "3624            0.0          2021               남아공         음식  \n",
       "3625            8.3          2021               남아공         음식  \n",
       "\n",
       "[3626 rows x 12 columns]"
      ]
     },
     "execution_count": 3,
     "metadata": {},
     "output_type": "execute_result"
    }
   ],
   "source": [
    "data"
   ]
  },
  {
   "cell_type": "code",
   "execution_count": 4,
   "id": "0bd106f0-af44-44e2-9a61-d9efb72699d7",
   "metadata": {},
   "outputs": [
    {
     "data": {
      "text/html": [
       "<div>\n",
       "<style scoped>\n",
       "    .dataframe tbody tr th:only-of-type {\n",
       "        vertical-align: middle;\n",
       "    }\n",
       "\n",
       "    .dataframe tbody tr th {\n",
       "        vertical-align: top;\n",
       "    }\n",
       "\n",
       "    .dataframe thead th {\n",
       "        text-align: right;\n",
       "    }\n",
       "</style>\n",
       "<table border=\"1\" class=\"dataframe\">\n",
       "  <thead>\n",
       "    <tr style=\"text-align: right;\">\n",
       "      <th></th>\n",
       "      <th>EXAMIN_COUNTRY_NM</th>\n",
       "      <th>CNTNTS_URL</th>\n",
       "      <th>ALL_TOTAL_CO</th>\n",
       "      <th>MALE_RATE</th>\n",
       "      <th>FEMALE_RATE</th>\n",
       "      <th>REPRT_YEAR_CN</th>\n",
       "    </tr>\n",
       "  </thead>\n",
       "  <tbody>\n",
       "    <tr>\n",
       "      <th>0</th>\n",
       "      <td>중국</td>\n",
       "      <td>드라마</td>\n",
       "      <td>34</td>\n",
       "      <td>34.0</td>\n",
       "      <td>34.8</td>\n",
       "      <td>2020</td>\n",
       "    </tr>\n",
       "    <tr>\n",
       "      <th>1</th>\n",
       "      <td>중국</td>\n",
       "      <td>예능</td>\n",
       "      <td>33</td>\n",
       "      <td>30.8</td>\n",
       "      <td>34.4</td>\n",
       "      <td>2020</td>\n",
       "    </tr>\n",
       "    <tr>\n",
       "      <th>2</th>\n",
       "      <td>중국</td>\n",
       "      <td>영화</td>\n",
       "      <td>32</td>\n",
       "      <td>30.0</td>\n",
       "      <td>33.6</td>\n",
       "      <td>2020</td>\n",
       "    </tr>\n",
       "    <tr>\n",
       "      <th>3</th>\n",
       "      <td>중국</td>\n",
       "      <td>음악</td>\n",
       "      <td>33</td>\n",
       "      <td>33.2</td>\n",
       "      <td>33.2</td>\n",
       "      <td>2020</td>\n",
       "    </tr>\n",
       "    <tr>\n",
       "      <th>4</th>\n",
       "      <td>중국</td>\n",
       "      <td>애니메이션</td>\n",
       "      <td>26</td>\n",
       "      <td>26.8</td>\n",
       "      <td>24.8</td>\n",
       "      <td>2020</td>\n",
       "    </tr>\n",
       "    <tr>\n",
       "      <th>...</th>\n",
       "      <td>...</td>\n",
       "      <td>...</td>\n",
       "      <td>...</td>\n",
       "      <td>...</td>\n",
       "      <td>...</td>\n",
       "      <td>...</td>\n",
       "    </tr>\n",
       "    <tr>\n",
       "      <th>471</th>\n",
       "      <td>남아공</td>\n",
       "      <td>애니메이션</td>\n",
       "      <td>13</td>\n",
       "      <td>10.5</td>\n",
       "      <td>14.5</td>\n",
       "      <td>2021</td>\n",
       "    </tr>\n",
       "    <tr>\n",
       "      <th>472</th>\n",
       "      <td>남아공</td>\n",
       "      <td>도서/만화</td>\n",
       "      <td>9</td>\n",
       "      <td>7.0</td>\n",
       "      <td>10.5</td>\n",
       "      <td>2021</td>\n",
       "    </tr>\n",
       "    <tr>\n",
       "      <th>473</th>\n",
       "      <td>남아공</td>\n",
       "      <td>웹툰</td>\n",
       "      <td>11</td>\n",
       "      <td>9.5</td>\n",
       "      <td>13.0</td>\n",
       "      <td>2021</td>\n",
       "    </tr>\n",
       "    <tr>\n",
       "      <th>474</th>\n",
       "      <td>남아공</td>\n",
       "      <td>패션</td>\n",
       "      <td>18</td>\n",
       "      <td>14.5</td>\n",
       "      <td>22.0</td>\n",
       "      <td>2021</td>\n",
       "    </tr>\n",
       "    <tr>\n",
       "      <th>475</th>\n",
       "      <td>남아공</td>\n",
       "      <td>뷰티</td>\n",
       "      <td>21</td>\n",
       "      <td>18.0</td>\n",
       "      <td>24.5</td>\n",
       "      <td>2021</td>\n",
       "    </tr>\n",
       "  </tbody>\n",
       "</table>\n",
       "<p>476 rows × 6 columns</p>\n",
       "</div>"
      ],
      "text/plain": [
       "    EXAMIN_COUNTRY_NM CNTNTS_URL  ALL_TOTAL_CO  MALE_RATE  FEMALE_RATE  \\\n",
       "0                  중국        드라마            34       34.0         34.8   \n",
       "1                  중국         예능            33       30.8         34.4   \n",
       "2                  중국         영화            32       30.0         33.6   \n",
       "3                  중국         음악            33       33.2         33.2   \n",
       "4                  중국      애니메이션            26       26.8         24.8   \n",
       "..                ...        ...           ...        ...          ...   \n",
       "471               남아공      애니메이션            13       10.5         14.5   \n",
       "472               남아공      도서/만화             9        7.0         10.5   \n",
       "473               남아공         웹툰            11        9.5         13.0   \n",
       "474               남아공         패션            18       14.5         22.0   \n",
       "475               남아공         뷰티            21       18.0         24.5   \n",
       "\n",
       "     REPRT_YEAR_CN  \n",
       "0             2020  \n",
       "1             2020  \n",
       "2             2020  \n",
       "3             2020  \n",
       "4             2020  \n",
       "..             ...  \n",
       "471           2021  \n",
       "472           2021  \n",
       "473           2021  \n",
       "474           2021  \n",
       "475           2021  \n",
       "\n",
       "[476 rows x 6 columns]"
      ]
     },
     "execution_count": 4,
     "metadata": {},
     "output_type": "execute_result"
    }
   ],
   "source": [
    "#아시아국가와 비아시아국가로 데이터를 분류하여 각 데이터의 년도별 선호도 추이를 확인해봄\n",
    "data=data[(data[\"POPULAR_DGREE_CN\"]==\"대중적 인기\")|(data[\"POPULAR_DGREE_CN\"]==\"일반인에게 널리 인기 있고 관련 상품의 판매가 원활\")]\n",
    "\n",
    "#년도별로 컨텐츠 분류가 상이하여서 공통된 부분 추출\n",
    "data=data[(data[\"CNTNTS_URL\"]==\"드라마\")|(data[\"CNTNTS_URL\"]==\"예능\")|(data[\"CNTNTS_URL\"]==\"영화\")|(data[\"CNTNTS_URL\"]==\"음악\")|(data[\"CNTNTS_URL\"]==\"애니메이션\")|\n",
    "          (data[\"CNTNTS_URL\"]==\"도서/만화\")|(data[\"CNTNTS_URL\"]==\"웹툰\")|(data[\"CNTNTS_URL\"]==\"게임\")|(data[\"CNTNTS_URL\"]==\"패션\")|(data[\"CNTNTS_URL\"]==\"뷰티\")]\n",
    "data=data[[\"EXAMIN_COUNTRY_NM\",\"CNTNTS_URL\",\"ALL_TOTAL_CO\",\"MALE_RATE\",\"FEMALE_RATE\",\"REPRT_YEAR_CN\"]]\n",
    "\n",
    "data.reset_index(drop=True,inplace=True)\n",
    "data = data.astype({'REPRT_YEAR_CN':'int64'})\n",
    "data"
   ]
  },
  {
   "cell_type": "code",
   "execution_count": 5,
   "id": "8060bc4e-c92e-40b2-98b0-54f4798bf1e1",
   "metadata": {},
   "outputs": [
    {
     "data": {
      "text/html": [
       "<div>\n",
       "<style scoped>\n",
       "    .dataframe tbody tr th:only-of-type {\n",
       "        vertical-align: middle;\n",
       "    }\n",
       "\n",
       "    .dataframe tbody tr th {\n",
       "        vertical-align: top;\n",
       "    }\n",
       "\n",
       "    .dataframe thead th {\n",
       "        text-align: right;\n",
       "    }\n",
       "</style>\n",
       "<table border=\"1\" class=\"dataframe\">\n",
       "  <thead>\n",
       "    <tr style=\"text-align: right;\">\n",
       "      <th></th>\n",
       "      <th>EXAMIN_COUNTRY_NM</th>\n",
       "      <th>CNTNTS_URL</th>\n",
       "      <th>ALL_TOTAL_CO</th>\n",
       "      <th>MALE_RATE</th>\n",
       "      <th>FEMALE_RATE</th>\n",
       "      <th>REPRT_YEAR_CN</th>\n",
       "    </tr>\n",
       "  </thead>\n",
       "  <tbody>\n",
       "    <tr>\n",
       "      <th>0</th>\n",
       "      <td>중국</td>\n",
       "      <td>드라마</td>\n",
       "      <td>34</td>\n",
       "      <td>34.0</td>\n",
       "      <td>34.8</td>\n",
       "      <td>2020</td>\n",
       "    </tr>\n",
       "    <tr>\n",
       "      <th>1</th>\n",
       "      <td>중국</td>\n",
       "      <td>예능</td>\n",
       "      <td>33</td>\n",
       "      <td>30.8</td>\n",
       "      <td>34.4</td>\n",
       "      <td>2020</td>\n",
       "    </tr>\n",
       "    <tr>\n",
       "      <th>2</th>\n",
       "      <td>중국</td>\n",
       "      <td>영화</td>\n",
       "      <td>32</td>\n",
       "      <td>30.0</td>\n",
       "      <td>33.6</td>\n",
       "      <td>2020</td>\n",
       "    </tr>\n",
       "    <tr>\n",
       "      <th>3</th>\n",
       "      <td>중국</td>\n",
       "      <td>음악</td>\n",
       "      <td>33</td>\n",
       "      <td>33.2</td>\n",
       "      <td>33.2</td>\n",
       "      <td>2020</td>\n",
       "    </tr>\n",
       "    <tr>\n",
       "      <th>4</th>\n",
       "      <td>중국</td>\n",
       "      <td>애니메이션</td>\n",
       "      <td>26</td>\n",
       "      <td>26.8</td>\n",
       "      <td>24.8</td>\n",
       "      <td>2020</td>\n",
       "    </tr>\n",
       "    <tr>\n",
       "      <th>...</th>\n",
       "      <td>...</td>\n",
       "      <td>...</td>\n",
       "      <td>...</td>\n",
       "      <td>...</td>\n",
       "      <td>...</td>\n",
       "      <td>...</td>\n",
       "    </tr>\n",
       "    <tr>\n",
       "      <th>238</th>\n",
       "      <td>러시아</td>\n",
       "      <td>애니메이션</td>\n",
       "      <td>9</td>\n",
       "      <td>8.5</td>\n",
       "      <td>8.5</td>\n",
       "      <td>2021</td>\n",
       "    </tr>\n",
       "    <tr>\n",
       "      <th>239</th>\n",
       "      <td>러시아</td>\n",
       "      <td>도서/만화</td>\n",
       "      <td>7</td>\n",
       "      <td>5.0</td>\n",
       "      <td>9.5</td>\n",
       "      <td>2021</td>\n",
       "    </tr>\n",
       "    <tr>\n",
       "      <th>240</th>\n",
       "      <td>러시아</td>\n",
       "      <td>웹툰</td>\n",
       "      <td>6</td>\n",
       "      <td>5.0</td>\n",
       "      <td>6.0</td>\n",
       "      <td>2021</td>\n",
       "    </tr>\n",
       "    <tr>\n",
       "      <th>241</th>\n",
       "      <td>러시아</td>\n",
       "      <td>패션</td>\n",
       "      <td>10</td>\n",
       "      <td>7.5</td>\n",
       "      <td>12.5</td>\n",
       "      <td>2021</td>\n",
       "    </tr>\n",
       "    <tr>\n",
       "      <th>242</th>\n",
       "      <td>러시아</td>\n",
       "      <td>뷰티</td>\n",
       "      <td>29</td>\n",
       "      <td>14.5</td>\n",
       "      <td>44.0</td>\n",
       "      <td>2021</td>\n",
       "    </tr>\n",
       "  </tbody>\n",
       "</table>\n",
       "<p>243 rows × 6 columns</p>\n",
       "</div>"
      ],
      "text/plain": [
       "    EXAMIN_COUNTRY_NM CNTNTS_URL  ALL_TOTAL_CO  MALE_RATE  FEMALE_RATE  \\\n",
       "0                  중국        드라마            34       34.0         34.8   \n",
       "1                  중국         예능            33       30.8         34.4   \n",
       "2                  중국         영화            32       30.0         33.6   \n",
       "3                  중국         음악            33       33.2         33.2   \n",
       "4                  중국      애니메이션            26       26.8         24.8   \n",
       "..                ...        ...           ...        ...          ...   \n",
       "238               러시아      애니메이션             9        8.5          8.5   \n",
       "239               러시아      도서/만화             7        5.0          9.5   \n",
       "240               러시아         웹툰             6        5.0          6.0   \n",
       "241               러시아         패션            10        7.5         12.5   \n",
       "242               러시아         뷰티            29       14.5         44.0   \n",
       "\n",
       "     REPRT_YEAR_CN  \n",
       "0             2020  \n",
       "1             2020  \n",
       "2             2020  \n",
       "3             2020  \n",
       "4             2020  \n",
       "..             ...  \n",
       "238           2021  \n",
       "239           2021  \n",
       "240           2021  \n",
       "241           2021  \n",
       "242           2021  \n",
       "\n",
       "[243 rows x 6 columns]"
      ]
     },
     "execution_count": 5,
     "metadata": {},
     "output_type": "execute_result"
    }
   ],
   "source": [
    "#아시아를 기준으로 데이터 분류\n",
    "data_asia=data[(data[\"EXAMIN_COUNTRY_NM\"]==\"중국\")|(data[\"EXAMIN_COUNTRY_NM\"]==\"일본\")|(data[\"EXAMIN_COUNTRY_NM\"]==\"대만\")|(data[\"EXAMIN_COUNTRY_NM\"]==\"태국\")|\n",
    "               (data[\"EXAMIN_COUNTRY_NM\"]==\"인도네시아\")|(data[\"EXAMIN_COUNTRY_NM\"]==\"말레이시아\")|(data[\"EXAMIN_COUNTRY_NM\"]==\"인도\")|(data[\"EXAMIN_COUNTRY_NM\"]==\"베트남\")|\n",
    "               (data[\"EXAMIN_COUNTRY_NM\"]==\"러시아\")]\n",
    "data\n",
    "\n",
    "data_asia.reset_index(drop=True,inplace=True)\n",
    "\n",
    "data_asia"
   ]
  },
  {
   "cell_type": "code",
   "execution_count": 6,
   "id": "646292ac-1fb7-4420-9f34-766f2a010097",
   "metadata": {},
   "outputs": [
    {
     "data": {
      "text/plain": [
       "<AxesSubplot:xlabel='CNTNTS_URL', ylabel='ALL_TOTAL_CO'>"
      ]
     },
     "execution_count": 6,
     "metadata": {},
     "output_type": "execute_result"
    },
    {
     "data": {
      "image/png": "[encoded data removed]",
      "text/plain": [
       "<Figure size 432x288 with 1 Axes>"
      ]
     },
     "metadata": {
      "needs_background": "light"
     },
     "output_type": "display_data"
    }
   ],
   "source": [
    "#아시아데이터로 년도별 국가간의 컨텐츠 선호도 차이를 확인하기 위한 lineplot을 그려봄\n",
    "import matplotlib as mpl\n",
    "mpl.rcParams['font.family']='NanumGothic'\n",
    "\n",
    "sns.lineplot(x=\"CNTNTS_URL\",y=\"ALL_TOTAL_CO\",hue=\"REPRT_YEAR_CN\",data=data_asia)\n",
    "\n",
    "#년도별로 비교해봤을때, 컨텐츠별 국가간의 컨텐츠 선호도의 차이가 있는 것으로 시각적으로 확인된다\n",
    "#정확하게 알아보기 위해 ANOVA test를 통해 년도별로 컨텐츠 선호도의 차이가 있는지를 알아본다"
   ]
  },
  {
   "cell_type": "code",
   "execution_count": 7,
   "id": "0f4cc28e-2a64-42f0-a571-cc85e14a21bc",
   "metadata": {},
   "outputs": [
    {
     "data": {
      "text/html": [
       "<div>\n",
       "<style scoped>\n",
       "    .dataframe tbody tr th:only-of-type {\n",
       "        vertical-align: middle;\n",
       "    }\n",
       "\n",
       "    .dataframe tbody tr th {\n",
       "        vertical-align: top;\n",
       "    }\n",
       "\n",
       "    .dataframe thead th {\n",
       "        text-align: right;\n",
       "    }\n",
       "</style>\n",
       "<table border=\"1\" class=\"dataframe\">\n",
       "  <thead>\n",
       "    <tr style=\"text-align: right;\">\n",
       "      <th></th>\n",
       "      <th>EXAMIN_COUNTRY_NM</th>\n",
       "      <th>CNTNTS_URL</th>\n",
       "      <th>ALL_TOTAL_CO</th>\n",
       "      <th>MALE_RATE</th>\n",
       "      <th>FEMALE_RATE</th>\n",
       "      <th>REPRT_YEAR_CN</th>\n",
       "    </tr>\n",
       "  </thead>\n",
       "  <tbody>\n",
       "    <tr>\n",
       "      <th>162</th>\n",
       "      <td>중국</td>\n",
       "      <td>드라마</td>\n",
       "      <td>17</td>\n",
       "      <td>16.8</td>\n",
       "      <td>18.0</td>\n",
       "      <td>2021</td>\n",
       "    </tr>\n",
       "    <tr>\n",
       "      <th>163</th>\n",
       "      <td>중국</td>\n",
       "      <td>예능</td>\n",
       "      <td>13</td>\n",
       "      <td>14.4</td>\n",
       "      <td>11.2</td>\n",
       "      <td>2021</td>\n",
       "    </tr>\n",
       "    <tr>\n",
       "      <th>164</th>\n",
       "      <td>중국</td>\n",
       "      <td>영화</td>\n",
       "      <td>19</td>\n",
       "      <td>22.0</td>\n",
       "      <td>15.2</td>\n",
       "      <td>2021</td>\n",
       "    </tr>\n",
       "    <tr>\n",
       "      <th>165</th>\n",
       "      <td>중국</td>\n",
       "      <td>음악</td>\n",
       "      <td>15</td>\n",
       "      <td>15.6</td>\n",
       "      <td>14.8</td>\n",
       "      <td>2021</td>\n",
       "    </tr>\n",
       "    <tr>\n",
       "      <th>166</th>\n",
       "      <td>중국</td>\n",
       "      <td>애니메이션</td>\n",
       "      <td>13</td>\n",
       "      <td>16.8</td>\n",
       "      <td>10.0</td>\n",
       "      <td>2021</td>\n",
       "    </tr>\n",
       "    <tr>\n",
       "      <th>...</th>\n",
       "      <td>...</td>\n",
       "      <td>...</td>\n",
       "      <td>...</td>\n",
       "      <td>...</td>\n",
       "      <td>...</td>\n",
       "      <td>...</td>\n",
       "    </tr>\n",
       "    <tr>\n",
       "      <th>238</th>\n",
       "      <td>러시아</td>\n",
       "      <td>애니메이션</td>\n",
       "      <td>9</td>\n",
       "      <td>8.5</td>\n",
       "      <td>8.5</td>\n",
       "      <td>2021</td>\n",
       "    </tr>\n",
       "    <tr>\n",
       "      <th>239</th>\n",
       "      <td>러시아</td>\n",
       "      <td>도서/만화</td>\n",
       "      <td>7</td>\n",
       "      <td>5.0</td>\n",
       "      <td>9.5</td>\n",
       "      <td>2021</td>\n",
       "    </tr>\n",
       "    <tr>\n",
       "      <th>240</th>\n",
       "      <td>러시아</td>\n",
       "      <td>웹툰</td>\n",
       "      <td>6</td>\n",
       "      <td>5.0</td>\n",
       "      <td>6.0</td>\n",
       "      <td>2021</td>\n",
       "    </tr>\n",
       "    <tr>\n",
       "      <th>241</th>\n",
       "      <td>러시아</td>\n",
       "      <td>패션</td>\n",
       "      <td>10</td>\n",
       "      <td>7.5</td>\n",
       "      <td>12.5</td>\n",
       "      <td>2021</td>\n",
       "    </tr>\n",
       "    <tr>\n",
       "      <th>242</th>\n",
       "      <td>러시아</td>\n",
       "      <td>뷰티</td>\n",
       "      <td>29</td>\n",
       "      <td>14.5</td>\n",
       "      <td>44.0</td>\n",
       "      <td>2021</td>\n",
       "    </tr>\n",
       "  </tbody>\n",
       "</table>\n",
       "<p>81 rows × 6 columns</p>\n",
       "</div>"
      ],
      "text/plain": [
       "    EXAMIN_COUNTRY_NM CNTNTS_URL  ALL_TOTAL_CO  MALE_RATE  FEMALE_RATE  \\\n",
       "162                중국        드라마            17       16.8         18.0   \n",
       "163                중국         예능            13       14.4         11.2   \n",
       "164                중국         영화            19       22.0         15.2   \n",
       "165                중국         음악            15       15.6         14.8   \n",
       "166                중국      애니메이션            13       16.8         10.0   \n",
       "..                ...        ...           ...        ...          ...   \n",
       "238               러시아      애니메이션             9        8.5          8.5   \n",
       "239               러시아      도서/만화             7        5.0          9.5   \n",
       "240               러시아         웹툰             6        5.0          6.0   \n",
       "241               러시아         패션            10        7.5         12.5   \n",
       "242               러시아         뷰티            29       14.5         44.0   \n",
       "\n",
       "     REPRT_YEAR_CN  \n",
       "162           2021  \n",
       "163           2021  \n",
       "164           2021  \n",
       "165           2021  \n",
       "166           2021  \n",
       "..             ...  \n",
       "238           2021  \n",
       "239           2021  \n",
       "240           2021  \n",
       "241           2021  \n",
       "242           2021  \n",
       "\n",
       "[81 rows x 6 columns]"
      ]
     },
     "execution_count": 7,
     "metadata": {},
     "output_type": "execute_result"
    }
   ],
   "source": [
    "data_asia_2021=data_asia[data_asia[\"REPRT_YEAR_CN\"]==2021]\n",
    "data_asia_2021"
   ]
  },
  {
   "cell_type": "code",
   "execution_count": 8,
   "id": "688919b5-6994-47eb-8c88-31ee31fb6254",
   "metadata": {},
   "outputs": [
    {
     "data": {
      "text/html": [
       "<div>\n",
       "<style scoped>\n",
       "    .dataframe tbody tr th:only-of-type {\n",
       "        vertical-align: middle;\n",
       "    }\n",
       "\n",
       "    .dataframe tbody tr th {\n",
       "        vertical-align: top;\n",
       "    }\n",
       "\n",
       "    .dataframe thead th {\n",
       "        text-align: right;\n",
       "    }\n",
       "</style>\n",
       "<table border=\"1\" class=\"dataframe\">\n",
       "  <thead>\n",
       "    <tr style=\"text-align: right;\">\n",
       "      <th></th>\n",
       "      <th>EXAMIN_COUNTRY_NM</th>\n",
       "      <th>CNTNTS_URL</th>\n",
       "      <th>ALL_TOTAL_CO</th>\n",
       "      <th>MALE_RATE</th>\n",
       "      <th>FEMALE_RATE</th>\n",
       "      <th>REPRT_YEAR_CN</th>\n",
       "    </tr>\n",
       "  </thead>\n",
       "  <tbody>\n",
       "    <tr>\n",
       "      <th>0</th>\n",
       "      <td>중국</td>\n",
       "      <td>드라마</td>\n",
       "      <td>32</td>\n",
       "      <td>37.2</td>\n",
       "      <td>27.6</td>\n",
       "      <td>2019</td>\n",
       "    </tr>\n",
       "    <tr>\n",
       "      <th>1</th>\n",
       "      <td>중국</td>\n",
       "      <td>예능</td>\n",
       "      <td>29</td>\n",
       "      <td>30.8</td>\n",
       "      <td>28.0</td>\n",
       "      <td>2019</td>\n",
       "    </tr>\n",
       "    <tr>\n",
       "      <th>2</th>\n",
       "      <td>중국</td>\n",
       "      <td>영화</td>\n",
       "      <td>30</td>\n",
       "      <td>36.4</td>\n",
       "      <td>22.8</td>\n",
       "      <td>2019</td>\n",
       "    </tr>\n",
       "    <tr>\n",
       "      <th>3</th>\n",
       "      <td>중국</td>\n",
       "      <td>음악</td>\n",
       "      <td>33</td>\n",
       "      <td>35.2</td>\n",
       "      <td>30.4</td>\n",
       "      <td>2019</td>\n",
       "    </tr>\n",
       "    <tr>\n",
       "      <th>4</th>\n",
       "      <td>중국</td>\n",
       "      <td>애니메이션</td>\n",
       "      <td>19</td>\n",
       "      <td>20.4</td>\n",
       "      <td>16.8</td>\n",
       "      <td>2019</td>\n",
       "    </tr>\n",
       "    <tr>\n",
       "      <th>...</th>\n",
       "      <td>...</td>\n",
       "      <td>...</td>\n",
       "      <td>...</td>\n",
       "      <td>...</td>\n",
       "      <td>...</td>\n",
       "      <td>...</td>\n",
       "    </tr>\n",
       "    <tr>\n",
       "      <th>67</th>\n",
       "      <td>러시아</td>\n",
       "      <td>애니메이션</td>\n",
       "      <td>22</td>\n",
       "      <td>19.0</td>\n",
       "      <td>25.5</td>\n",
       "      <td>2019</td>\n",
       "    </tr>\n",
       "    <tr>\n",
       "      <th>68</th>\n",
       "      <td>러시아</td>\n",
       "      <td>웹툰</td>\n",
       "      <td>11</td>\n",
       "      <td>8.0</td>\n",
       "      <td>14.5</td>\n",
       "      <td>2019</td>\n",
       "    </tr>\n",
       "    <tr>\n",
       "      <th>69</th>\n",
       "      <td>러시아</td>\n",
       "      <td>게임</td>\n",
       "      <td>23</td>\n",
       "      <td>26.0</td>\n",
       "      <td>19.5</td>\n",
       "      <td>2019</td>\n",
       "    </tr>\n",
       "    <tr>\n",
       "      <th>70</th>\n",
       "      <td>러시아</td>\n",
       "      <td>패션</td>\n",
       "      <td>26</td>\n",
       "      <td>19.0</td>\n",
       "      <td>32.0</td>\n",
       "      <td>2019</td>\n",
       "    </tr>\n",
       "    <tr>\n",
       "      <th>71</th>\n",
       "      <td>러시아</td>\n",
       "      <td>뷰티</td>\n",
       "      <td>41</td>\n",
       "      <td>21.5</td>\n",
       "      <td>60.0</td>\n",
       "      <td>2019</td>\n",
       "    </tr>\n",
       "  </tbody>\n",
       "</table>\n",
       "<p>72 rows × 6 columns</p>\n",
       "</div>"
      ],
      "text/plain": [
       "   EXAMIN_COUNTRY_NM CNTNTS_URL  ALL_TOTAL_CO  MALE_RATE  FEMALE_RATE  \\\n",
       "0                 중국        드라마            32       37.2         27.6   \n",
       "1                 중국         예능            29       30.8         28.0   \n",
       "2                 중국         영화            30       36.4         22.8   \n",
       "3                 중국         음악            33       35.2         30.4   \n",
       "4                 중국      애니메이션            19       20.4         16.8   \n",
       "..               ...        ...           ...        ...          ...   \n",
       "67               러시아      애니메이션            22       19.0         25.5   \n",
       "68               러시아         웹툰            11        8.0         14.5   \n",
       "69               러시아         게임            23       26.0         19.5   \n",
       "70               러시아         패션            26       19.0         32.0   \n",
       "71               러시아         뷰티            41       21.5         60.0   \n",
       "\n",
       "    REPRT_YEAR_CN  \n",
       "0            2019  \n",
       "1            2019  \n",
       "2            2019  \n",
       "3            2019  \n",
       "4            2019  \n",
       "..            ...  \n",
       "67           2019  \n",
       "68           2019  \n",
       "69           2019  \n",
       "70           2019  \n",
       "71           2019  \n",
       "\n",
       "[72 rows x 6 columns]"
      ]
     },
     "execution_count": 8,
     "metadata": {},
     "output_type": "execute_result"
    }
   ],
   "source": [
    "data_asia_2021=data_asia[data_asia[\"REPRT_YEAR_CN\"]==2021]\n",
    "data_asia_2020=data_asia[data_asia[\"REPRT_YEAR_CN\"]==2020]\n",
    "data_asia_2019=data_asia[data_asia[\"REPRT_YEAR_CN\"]==2019]\n",
    "\n",
    "data_asia_2021.reset_index(drop=True,inplace=True)\n",
    "data_asia_2020.reset_index(drop=True,inplace=True)\n",
    "data_asia_2019.reset_index(drop=True,inplace=True)\n",
    "data_asia_2019"
   ]
  },
  {
   "cell_type": "code",
   "execution_count": 9,
   "id": "4555a4fc-ac3d-428c-9bc8-ecd37a38849a",
   "metadata": {},
   "outputs": [
    {
     "name": "stdout",
     "output_type": "stream",
     "text": [
      "<class 'pandas.core.frame.DataFrame'>\n",
      "RangeIndex: 476 entries, 0 to 475\n",
      "Data columns (total 6 columns):\n",
      " #   Column             Non-Null Count  Dtype  \n",
      "---  ------             --------------  -----  \n",
      " 0   EXAMIN_COUNTRY_NM  476 non-null    object \n",
      " 1   CNTNTS_URL         476 non-null    object \n",
      " 2   ALL_TOTAL_CO       476 non-null    int64  \n",
      " 3   MALE_RATE          476 non-null    float64\n",
      " 4   FEMALE_RATE        476 non-null    float64\n",
      " 5   REPRT_YEAR_CN      476 non-null    int64  \n",
      "dtypes: float64(2), int64(2), object(2)\n",
      "memory usage: 22.4+ KB\n"
     ]
    }
   ],
   "source": [
    "data.info()"
   ]
  },
  {
   "cell_type": "code",
   "execution_count": 10,
   "id": "45aab4d2-2734-418c-b312-702f6ef0570c",
   "metadata": {},
   "outputs": [
    {
     "name": "stderr",
     "output_type": "stream",
     "text": [
      "C:\\Users\\김규리\\AppData\\Roaming\\Python\\Python39\\site-packages\\IPython\\core\\pylabtools.py:132: UserWarning: Glyph 8722 (\\N{MINUS SIGN}) missing from current font.\n",
      "  fig.canvas.print_figure(bytes_io, **kw)\n"
     ]
    },
    {
     "data": {
      "image/png": "[encoded data removed]",
      "text/plain": [
       "<Figure size 432x288 with 1 Axes>"
      ]
     },
     "metadata": {
      "needs_background": "light"
     },
     "output_type": "display_data"
    }
   ],
   "source": [
    "import statsmodels.api as sm\n",
    "#정규성 검사\n",
    "#2021년 데이터\n",
    "fig=sm.qqplot(data_asia_2021[\"ALL_TOTAL_CO\"], line='45',fit=True)\n",
    "plt.show()\n",
    "#qq-plot을 그려보았을 때, 직선을 기준으로 데이터가 모여있으므로 정규성을 띈다고 볼 수 있다"
   ]
  },
  {
   "cell_type": "code",
   "execution_count": 11,
   "id": "034dbae3-210d-4eea-97b2-d8e156ea7d37",
   "metadata": {},
   "outputs": [
    {
     "data": {
      "text/plain": [
       "ShapiroResult(statistic=0.96739262342453, pvalue=0.03681807219982147)"
      ]
     },
     "execution_count": 11,
     "metadata": {},
     "output_type": "execute_result"
    }
   ],
   "source": [
    "from scipy.stats import shapiro\n",
    "#정확하게 알아보기 위해 shapiro test진행\n",
    "shapiro(data_asia_2021[\"ALL_TOTAL_CO\"])\n",
    "#shapiro test를 진행해보았을 때는 정규분포를 따른다고 본다"
   ]
  },
  {
   "cell_type": "code",
   "execution_count": 12,
   "id": "778e847e-cde6-4bad-813a-a85f9bf174bb",
   "metadata": {},
   "outputs": [
    {
     "data": {
      "image/png": "[encoded data removed]",
      "text/plain": [
       "<Figure size 432x288 with 1 Axes>"
      ]
     },
     "metadata": {
      "needs_background": "light"
     },
     "output_type": "display_data"
    }
   ],
   "source": [
    "#2020년 데이터\n",
    "fig=sm.qqplot(data_asia_2020[\"ALL_TOTAL_CO\"], line='45',fit=True)\n",
    "plt.show()\n",
    "#qq-plot을 그려보았을 때, 직선을 기준으로 데이터가 모여있으므로 정규성을 띈다고 볼 수 있다"
   ]
  },
  {
   "cell_type": "code",
   "execution_count": 13,
   "id": "0f823f60-de05-44e7-a5c2-ff762af86c40",
   "metadata": {},
   "outputs": [
    {
     "data": {
      "text/plain": [
       "ShapiroResult(statistic=0.9883280992507935, pvalue=0.6082614064216614)"
      ]
     },
     "execution_count": 13,
     "metadata": {},
     "output_type": "execute_result"
    }
   ],
   "source": [
    "shapiro(data_asia_2020[\"ALL_TOTAL_CO\"])\n",
    "#2020데이터는 정규성을 가짐"
   ]
  },
  {
   "cell_type": "code",
   "execution_count": 14,
   "id": "544892f5-216d-4c49-89bb-7349de6cffc8",
   "metadata": {},
   "outputs": [
    {
     "data": {
      "image/png": "[encoded data removed]",
      "text/plain": [
       "<Figure size 432x288 with 1 Axes>"
      ]
     },
     "metadata": {
      "needs_background": "light"
     },
     "output_type": "display_data"
    }
   ],
   "source": [
    "#2019년 데이터\n",
    "fig=sm.qqplot(data_asia_2019[\"ALL_TOTAL_CO\"], line='45',fit=True)\n",
    "plt.show()\n",
    "#qq-plot을 그려보았을 때, 직선을 기준으로 데이터가 모여있으므로 정규성을 띈다고 볼 수 있다"
   ]
  },
  {
   "cell_type": "code",
   "execution_count": 15,
   "id": "9b6fe81c-e39d-4c3e-9439-044ee32e7e25",
   "metadata": {},
   "outputs": [
    {
     "data": {
      "text/plain": [
       "ShapiroResult(statistic=0.9738536477088928, pvalue=0.1386755108833313)"
      ]
     },
     "execution_count": 15,
     "metadata": {},
     "output_type": "execute_result"
    }
   ],
   "source": [
    "shapiro(data_asia_2019[\"ALL_TOTAL_CO\"])\n",
    "#2019데이터는 정규성을 가짐"
   ]
  },
  {
   "cell_type": "code",
   "execution_count": 16,
   "id": "459004ce-f6a3-4f1f-b93e-210469484baa",
   "metadata": {},
   "outputs": [
    {
     "name": "stdout",
     "output_type": "stream",
     "text": [
      "16.567901234567902 34.01111111111111 31.625 16.0 34.0 32.0\n"
     ]
    },
    {
     "name": "stderr",
     "output_type": "stream",
     "text": [
      "C:\\Anaconda3\\envs\\statenv\\lib\\site-packages\\seaborn\\distributions.py:2619: FutureWarning: `distplot` is a deprecated function and will be removed in a future version. Please adapt your code to use either `displot` (a figure-level function with similar flexibility) or `histplot` (an axes-level function for histograms).\n",
      "  warnings.warn(msg, FutureWarning)\n",
      "C:\\Anaconda3\\envs\\statenv\\lib\\site-packages\\seaborn\\distributions.py:2619: FutureWarning: `distplot` is a deprecated function and will be removed in a future version. Please adapt your code to use either `displot` (a figure-level function with similar flexibility) or `histplot` (an axes-level function for histograms).\n",
      "  warnings.warn(msg, FutureWarning)\n",
      "C:\\Anaconda3\\envs\\statenv\\lib\\site-packages\\seaborn\\distributions.py:2619: FutureWarning: `distplot` is a deprecated function and will be removed in a future version. Please adapt your code to use either `displot` (a figure-level function with similar flexibility) or `histplot` (an axes-level function for histograms).\n",
      "  warnings.warn(msg, FutureWarning)\n"
     ]
    },
    {
     "data": {
      "image/png": "[encoded data removed]",
      "text/plain": [
       "<Figure size 432x288 with 1 Axes>"
      ]
     },
     "metadata": {
      "needs_background": "light"
     },
     "output_type": "display_data"
    }
   ],
   "source": [
    "fig,ax=plt.subplots()\n",
    "sns.distplot(data_asia_2021[\"ALL_TOTAL_CO\"],ax=ax)\n",
    "sns.distplot(data_asia_2020[\"ALL_TOTAL_CO\"],ax=ax)\n",
    "sns.distplot(data_asia_2019[\"ALL_TOTAL_CO\"],ax=ax)\n",
    "print(np.mean(data_asia_2021[\"ALL_TOTAL_CO\"]),np.mean(data_asia_2020[\"ALL_TOTAL_CO\"]),np.mean(data_asia_2019[\"ALL_TOTAL_CO\"]),\n",
    "      np.median(data_asia_2021[\"ALL_TOTAL_CO\"]),np.median(data_asia_2020[\"ALL_TOTAL_CO\"]),np.median(data_asia_2019[\"ALL_TOTAL_CO\"]))\n",
    "\n",
    "#distplot을 그려봄"
   ]
  },
  {
   "cell_type": "code",
   "execution_count": 17,
   "id": "5f14b5a2-a4df-463f-a8b0-74ef35e37bbf",
   "metadata": {},
   "outputs": [
    {
     "data": {
      "text/plain": [
       "BartlettResult(statistic=17.997164918576072, pvalue=0.00012358486655800362)"
      ]
     },
     "execution_count": 17,
     "metadata": {},
     "output_type": "execute_result"
    }
   ],
   "source": [
    "#등분산성을 확인\n",
    "stats.bartlett(\n",
    "    data_asia_2021[\"ALL_TOTAL_CO\"],\n",
    "    data_asia_2020[\"ALL_TOTAL_CO\"],\n",
    "    data_asia_2019[\"ALL_TOTAL_CO\"] )\n",
    "#p-value 값이 0.05보다 작다"
   ]
  },
  {
   "cell_type": "code",
   "execution_count": 18,
   "id": "5f596cca-b35e-4125-ad56-27c54787e9e0",
   "metadata": {},
   "outputs": [
    {
     "data": {
      "text/plain": [
       "LeveneResult(statistic=7.552668496151248, pvalue=0.000659179464706585)"
      ]
     },
     "execution_count": 18,
     "metadata": {},
     "output_type": "execute_result"
    }
   ],
   "source": [
    "stats.levene(\n",
    "    data_asia_2021[\"ALL_TOTAL_CO\"],\n",
    "    data_asia_2020[\"ALL_TOTAL_CO\"],\n",
    "    data_asia_2019[\"ALL_TOTAL_CO\"] )\n",
    "#p-value 값이 0.05보다 작다"
   ]
  },
  {
   "cell_type": "code",
   "execution_count": 19,
   "id": "55ed8c2e-1681-4303-8afa-9b3062ebbf15",
   "metadata": {},
   "outputs": [],
   "source": [
    "#qqplot을 그렸을 때 3집단 모두 정규성을 가지는 것으로 보였는데 shapiro 검정을 해보니 모두 p-value가 0.05보다 높게 나왔다\n",
    "#distplot을 그려보았을 때 분포의 차이가 보였으며\n",
    "#bartlett과 levene 둘다 모두 p값은 0.05보다 낮게 나왔지만, 3집단 모두 정규성을 가지고 있기 때문에 bartlett의 p-value를 고려한다\n",
    "#따라서 정규성은 만족되었지만 등분산성이 만족되지 않았으므로 welch anova test를 해준다"
   ]
  },
  {
   "cell_type": "code",
   "execution_count": 20,
   "id": "acb2e264-92db-4605-96ac-1f93793e30d4",
   "metadata": {},
   "outputs": [
    {
     "data": {
      "text/html": [
       "<div>\n",
       "<style scoped>\n",
       "    .dataframe tbody tr th:only-of-type {\n",
       "        vertical-align: middle;\n",
       "    }\n",
       "\n",
       "    .dataframe tbody tr th {\n",
       "        vertical-align: top;\n",
       "    }\n",
       "\n",
       "    .dataframe thead th {\n",
       "        text-align: right;\n",
       "    }\n",
       "</style>\n",
       "<table border=\"1\" class=\"dataframe\">\n",
       "  <thead>\n",
       "    <tr style=\"text-align: right;\">\n",
       "      <th></th>\n",
       "      <th>Source</th>\n",
       "      <th>ddof1</th>\n",
       "      <th>ddof2</th>\n",
       "      <th>F</th>\n",
       "      <th>p-unc</th>\n",
       "      <th>np2</th>\n",
       "    </tr>\n",
       "  </thead>\n",
       "  <tbody>\n",
       "    <tr>\n",
       "      <th>0</th>\n",
       "      <td>REPRT_YEAR_CN</td>\n",
       "      <td>2</td>\n",
       "      <td>152.341153</td>\n",
       "      <td>65.695509</td>\n",
       "      <td>2.672924e-21</td>\n",
       "      <td>0.300706</td>\n",
       "    </tr>\n",
       "  </tbody>\n",
       "</table>\n",
       "</div>"
      ],
      "text/plain": [
       "          Source  ddof1       ddof2          F         p-unc       np2\n",
       "0  REPRT_YEAR_CN      2  152.341153  65.695509  2.672924e-21  0.300706"
      ]
     },
     "execution_count": 20,
     "metadata": {},
     "output_type": "execute_result"
    }
   ],
   "source": [
    "from pingouin import welch_anova\n",
    "#귀무가설:년도별로 국가간의 선호도 차이는 없다.\n",
    "#dv:종속변수 between:독립변수\n",
    "welch_anova(dv=\"ALL_TOTAL_CO\", between=\"REPRT_YEAR_CN\", data=data_asia)\n",
    "#p-value값이 0.05보다 작으므로 귀무가설을 기각함"
   ]
  },
  {
   "cell_type": "code",
   "execution_count": 21,
   "id": "002d60e5-60fb-4aff-b456-ed88e0d4ffdb",
   "metadata": {},
   "outputs": [],
   "source": [
    "#국가 집단 간 선호도 평균 차이가 어디서 발생하는지 알아보기 위해 사후검정 실시"
   ]
  },
  {
   "cell_type": "code",
   "execution_count": 22,
   "id": "ab1c9402-430a-44cb-908d-ab7cfa1fb611",
   "metadata": {},
   "outputs": [],
   "source": [
    "#등분산성을 만족하지 않기 때문에, Games Howell 검정 사용"
   ]
  },
  {
   "cell_type": "code",
   "execution_count": 24,
   "id": "814888ff-9dad-46e9-9f56-e72215194ea9",
   "metadata": {},
   "outputs": [
    {
     "data": {
      "text/html": [
       "<div>\n",
       "<style scoped>\n",
       "    .dataframe tbody tr th:only-of-type {\n",
       "        vertical-align: middle;\n",
       "    }\n",
       "\n",
       "    .dataframe tbody tr th {\n",
       "        vertical-align: top;\n",
       "    }\n",
       "\n",
       "    .dataframe thead th {\n",
       "        text-align: right;\n",
       "    }\n",
       "</style>\n",
       "<table border=\"1\" class=\"dataframe\">\n",
       "  <thead>\n",
       "    <tr style=\"text-align: right;\">\n",
       "      <th></th>\n",
       "      <th>A</th>\n",
       "      <th>B</th>\n",
       "      <th>mean(A)</th>\n",
       "      <th>mean(B)</th>\n",
       "      <th>diff</th>\n",
       "      <th>se</th>\n",
       "      <th>T</th>\n",
       "      <th>df</th>\n",
       "      <th>pval</th>\n",
       "      <th>hedges</th>\n",
       "    </tr>\n",
       "  </thead>\n",
       "  <tbody>\n",
       "    <tr>\n",
       "      <th>0</th>\n",
       "      <td>2019</td>\n",
       "      <td>2020</td>\n",
       "      <td>31.625000</td>\n",
       "      <td>34.011111</td>\n",
       "      <td>-2.386111</td>\n",
       "      <td>2.057700</td>\n",
       "      <td>-1.159601</td>\n",
       "      <td>159.305641</td>\n",
       "      <td>4.790881e-01</td>\n",
       "      <td>-0.182488</td>\n",
       "    </tr>\n",
       "    <tr>\n",
       "      <th>1</th>\n",
       "      <td>2019</td>\n",
       "      <td>2021</td>\n",
       "      <td>31.625000</td>\n",
       "      <td>16.567901</td>\n",
       "      <td>15.057099</td>\n",
       "      <td>1.723166</td>\n",
       "      <td>8.738043</td>\n",
       "      <td>128.408969</td>\n",
       "      <td>7.349676e-14</td>\n",
       "      <td>1.408267</td>\n",
       "    </tr>\n",
       "    <tr>\n",
       "      <th>2</th>\n",
       "      <td>2020</td>\n",
       "      <td>2021</td>\n",
       "      <td>34.011111</td>\n",
       "      <td>16.567901</td>\n",
       "      <td>17.443210</td>\n",
       "      <td>1.779853</td>\n",
       "      <td>9.800364</td>\n",
       "      <td>150.884069</td>\n",
       "      <td>0.000000e+00</td>\n",
       "      <td>1.494315</td>\n",
       "    </tr>\n",
       "  </tbody>\n",
       "</table>\n",
       "</div>"
      ],
      "text/plain": [
       "      A     B    mean(A)    mean(B)       diff        se         T  \\\n",
       "0  2019  2020  31.625000  34.011111  -2.386111  2.057700 -1.159601   \n",
       "1  2019  2021  31.625000  16.567901  15.057099  1.723166  8.738043   \n",
       "2  2020  2021  34.011111  16.567901  17.443210  1.779853  9.800364   \n",
       "\n",
       "           df          pval    hedges  \n",
       "0  159.305641  4.790881e-01 -0.182488  \n",
       "1  128.408969  7.349676e-14  1.408267  \n",
       "2  150.884069  0.000000e+00  1.494315  "
      ]
     },
     "execution_count": 24,
     "metadata": {},
     "output_type": "execute_result"
    }
   ],
   "source": [
    "import pingouin as pg\n",
    "pg.pairwise_gameshowell(dv=\"ALL_TOTAL_CO\", between=\"REPRT_YEAR_CN\", data=data_asia)\n",
    "#p-value 값이 모두 0.05보다 작으므로 2019, 2020, 2021년 모두 통계적으로 유의미한 선호도 차이가 존재"
   ]
  },
  {
   "cell_type": "code",
   "execution_count": 25,
   "id": "0d5ece7a-608a-46aa-a153-0cdf59c3849c",
   "metadata": {},
   "outputs": [
    {
     "data": {
      "image/png": "[encoded data removed]",
      "text/plain": [
       "<Figure size 432x288 with 1 Axes>"
      ]
     },
     "metadata": {
      "needs_background": "light"
     },
     "output_type": "display_data"
    }
   ],
   "source": [
    "#선호도 총합에 여성과 남성 중 어떤 성별이 더 많은 영향을 주는지 확인해보기 위해, 여성과 남성을 구분하여 선호도총합간의 상관분석을 실시함\n",
    "#All-total과 female rate간의 상관관계를 분석해보기위해 산점도를 그려봄\n",
    "plt.scatter(data[\"ALL_TOTAL_CO\"],data[\"FEMALE_RATE\"], alpha=0.5)\n",
    "plt.show()\n",
    "#양의 상관관계가 나타나 보이는 것으로 확인됨"
   ]
  },
  {
   "cell_type": "code",
   "execution_count": 26,
   "id": "b3b47110-feec-417a-8cba-86711010c1ce",
   "metadata": {},
   "outputs": [
    {
     "data": {
      "image/png": "[encoded data removed]",
      "text/plain": [
       "<Figure size 432x288 with 1 Axes>"
      ]
     },
     "metadata": {
      "needs_background": "light"
     },
     "output_type": "display_data"
    }
   ],
   "source": [
    "#All-total과 male rate간의 상관관계를 분석해보기위해 산점도를 그려봄\n",
    "plt.scatter(data[\"ALL_TOTAL_CO\"],data[\"MALE_RATE\"], alpha=0.5)\n",
    "plt.show()\n",
    "#양의 상관관계가 나타나는 것으로 확인됨"
   ]
  },
  {
   "cell_type": "code",
   "execution_count": 27,
   "id": "6ce62441-e163-49c6-863b-3e43c6017759",
   "metadata": {},
   "outputs": [
    {
     "data": {
      "text/plain": [
       "(0.9600422430238293, 2.747616566061959e-135)"
      ]
     },
     "execution_count": 27,
     "metadata": {},
     "output_type": "execute_result"
    }
   ],
   "source": [
    "import scipy.stats as stats\n",
    "stats.pearsonr(data_asia[\"ALL_TOTAL_CO\"],data_asia[\"MALE_RATE\"])\n",
    "#p-value값이 0.05보다 작으므로 male_rate는 all_total_co에 밀접한 연관이 있다는 것을 확인할 수 있음"
   ]
  },
  {
   "cell_type": "code",
   "execution_count": 28,
   "id": "cddc0872-9de4-42ca-b62b-4fb866d764d0",
   "metadata": {},
   "outputs": [
    {
     "data": {
      "text/plain": [
       "(0.9699379532425525, 6.403116510785227e-150)"
      ]
     },
     "execution_count": 28,
     "metadata": {},
     "output_type": "execute_result"
    }
   ],
   "source": [
    "stats.pearsonr(data_asia[\"ALL_TOTAL_CO\"],data_asia[\"FEMALE_RATE\"])\n",
    "#p-value값이 0.05보다 작으므로 male_rate는 all_total_co에 밀접한 연관이 있다는 것을 확인할 수 있음\n",
    "#선호도 총합과 여성간의 상관계수값이 선호도 총합과 남성간의 상관계수값보다 더 작으므로, 여성이 남성에 비해 선호도 총합에 더 강햔 양적관계를 가지고 있다는 것을 알 수 있다."
   ]
  },
  {
   "cell_type": "code",
   "execution_count": null,
   "id": "3b1ed220-c5f1-467f-8b2f-8bad56869ffe",
   "metadata": {},
   "outputs": [],
   "source": []
  }
 ],
 "metadata": {
  "kernelspec": {
   "display_name": "stat",
   "language": "python",
   "name": "statenv"
  },
  "language_info": {
   "codemirror_mode": {
    "name": "ipython",
    "version": 3
   },
   "file_extension": ".py",
   "mimetype": "text/x-python",
   "name": "python",
   "nbconvert_exporter": "python",
   "pygments_lexer": "ipython3",
   "version": "3.9.0"
  }
 },
 "nbformat": 4,
 "nbformat_minor": 5
}
