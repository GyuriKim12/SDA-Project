{
 "cells": [
  {
   "cell_type": "code",
   "execution_count": 2,
   "id": "e2f19956-ec85-4348-a39b-5b0cf2905cda",
   "metadata": {},
   "outputs": [],
   "source": [
    "import pandas as pd\n",
    "import seaborn as sns\n",
    "import numpy as np\n",
    "from scipy import stats\n",
    "import matplotlib.pyplot as plt "
   ]
  },
  {
   "cell_type": "code",
   "execution_count": 3,
   "id": "72a437e3-e8a7-4759-8047-baaf8a503a8f",
   "metadata": {},
   "outputs": [],
   "source": [
    "data=pd.read_csv(\"한국문화컨텐츠 소비 비중정보.csv\")"
   ]
  },
  {
   "cell_type": "code",
   "execution_count": 9,
   "id": "a5c6f4eb-f92c-4d0e-974f-98dcdff1d668",
   "metadata": {},
   "outputs": [
    {
     "data": {
      "text/html": [
       "<div>\n",
       "<style scoped>\n",
       "    .dataframe tbody tr th:only-of-type {\n",
       "        vertical-align: middle;\n",
       "    }\n",
       "\n",
       "    .dataframe tbody tr th {\n",
       "        vertical-align: top;\n",
       "    }\n",
       "\n",
       "    .dataframe thead th {\n",
       "        text-align: right;\n",
       "    }\n",
       "</style>\n",
       "<table border=\"1\" class=\"dataframe\">\n",
       "  <thead>\n",
       "    <tr style=\"text-align: right;\">\n",
       "      <th></th>\n",
       "      <th>IEM_NM</th>\n",
       "      <th>ALL_TOTAL_CO</th>\n",
       "      <th>MALE_RATE</th>\n",
       "      <th>FEMALE_RATE</th>\n",
       "      <th>ALL_N10S_RATE</th>\n",
       "      <th>ALL_N20S_RATE</th>\n",
       "      <th>ALL_N30S_RATE</th>\n",
       "      <th>ALL_N40S_RATE</th>\n",
       "      <th>ALL_N50S_RATE</th>\n",
       "      <th>REPRT_YEAR_CN</th>\n",
       "      <th>EXAMIN_COUNTRY_NM</th>\n",
       "      <th>CNTNTS_URL</th>\n",
       "    </tr>\n",
       "  </thead>\n",
       "  <tbody>\n",
       "    <tr>\n",
       "      <th>0</th>\n",
       "      <td>한국 문화콘텐츠 소비(시간)</td>\n",
       "      <td>18.18</td>\n",
       "      <td>16.65</td>\n",
       "      <td>19.69</td>\n",
       "      <td>22.03</td>\n",
       "      <td>20.68</td>\n",
       "      <td>13.26</td>\n",
       "      <td>13.44</td>\n",
       "      <td>19.87</td>\n",
       "      <td>2021</td>\n",
       "      <td>중국</td>\n",
       "      <td>드라마</td>\n",
       "    </tr>\n",
       "    <tr>\n",
       "      <th>1</th>\n",
       "      <td>소비 비중(%)</td>\n",
       "      <td>29.37</td>\n",
       "      <td>27.92</td>\n",
       "      <td>30.80</td>\n",
       "      <td>29.99</td>\n",
       "      <td>31.80</td>\n",
       "      <td>26.40</td>\n",
       "      <td>28.36</td>\n",
       "      <td>30.91</td>\n",
       "      <td>2021</td>\n",
       "      <td>중국</td>\n",
       "      <td>드라마</td>\n",
       "    </tr>\n",
       "    <tr>\n",
       "      <th>2</th>\n",
       "      <td>월평균 지출 금액($)</td>\n",
       "      <td>7.46</td>\n",
       "      <td>8.12</td>\n",
       "      <td>6.82</td>\n",
       "      <td>6.08</td>\n",
       "      <td>7.14</td>\n",
       "      <td>6.42</td>\n",
       "      <td>5.46</td>\n",
       "      <td>20.56</td>\n",
       "      <td>2021</td>\n",
       "      <td>중국</td>\n",
       "      <td>드라마</td>\n",
       "    </tr>\n",
       "    <tr>\n",
       "      <th>3</th>\n",
       "      <td>한국 문화콘텐츠 소비(시간)</td>\n",
       "      <td>13.29</td>\n",
       "      <td>11.76</td>\n",
       "      <td>14.76</td>\n",
       "      <td>14.25</td>\n",
       "      <td>13.65</td>\n",
       "      <td>13.17</td>\n",
       "      <td>8.31</td>\n",
       "      <td>15.45</td>\n",
       "      <td>2021</td>\n",
       "      <td>중국</td>\n",
       "      <td>예능</td>\n",
       "    </tr>\n",
       "    <tr>\n",
       "      <th>4</th>\n",
       "      <td>소비 비중(%)</td>\n",
       "      <td>28.46</td>\n",
       "      <td>25.52</td>\n",
       "      <td>31.29</td>\n",
       "      <td>24.85</td>\n",
       "      <td>27.79</td>\n",
       "      <td>28.91</td>\n",
       "      <td>30.65</td>\n",
       "      <td>37.55</td>\n",
       "      <td>2021</td>\n",
       "      <td>중국</td>\n",
       "      <td>예능</td>\n",
       "    </tr>\n",
       "    <tr>\n",
       "      <th>...</th>\n",
       "      <td>...</td>\n",
       "      <td>...</td>\n",
       "      <td>...</td>\n",
       "      <td>...</td>\n",
       "      <td>...</td>\n",
       "      <td>...</td>\n",
       "      <td>...</td>\n",
       "      <td>...</td>\n",
       "      <td>...</td>\n",
       "      <td>...</td>\n",
       "      <td>...</td>\n",
       "      <td>...</td>\n",
       "    </tr>\n",
       "    <tr>\n",
       "      <th>2593</th>\n",
       "      <td>월평균 지출 금액($)</td>\n",
       "      <td>8.54</td>\n",
       "      <td>8.50</td>\n",
       "      <td>8.57</td>\n",
       "      <td>8.80</td>\n",
       "      <td>9.11</td>\n",
       "      <td>8.48</td>\n",
       "      <td>8.55</td>\n",
       "      <td>7.02</td>\n",
       "      <td>2021</td>\n",
       "      <td>아르헨티나</td>\n",
       "      <td>패션</td>\n",
       "    </tr>\n",
       "    <tr>\n",
       "      <th>2594</th>\n",
       "      <td>소비 비중(%)</td>\n",
       "      <td>18.67</td>\n",
       "      <td>20.35</td>\n",
       "      <td>18.02</td>\n",
       "      <td>17.82</td>\n",
       "      <td>21.56</td>\n",
       "      <td>18.71</td>\n",
       "      <td>13.50</td>\n",
       "      <td>13.00</td>\n",
       "      <td>2021</td>\n",
       "      <td>아르헨티나</td>\n",
       "      <td>뷰티</td>\n",
       "    </tr>\n",
       "    <tr>\n",
       "      <th>2595</th>\n",
       "      <td>월평균 지출 금액($)</td>\n",
       "      <td>8.41</td>\n",
       "      <td>9.01</td>\n",
       "      <td>8.17</td>\n",
       "      <td>9.34</td>\n",
       "      <td>7.66</td>\n",
       "      <td>9.86</td>\n",
       "      <td>7.42</td>\n",
       "      <td>4.96</td>\n",
       "      <td>2021</td>\n",
       "      <td>아르헨티나</td>\n",
       "      <td>뷰티</td>\n",
       "    </tr>\n",
       "    <tr>\n",
       "      <th>2596</th>\n",
       "      <td>소비 비중(%)</td>\n",
       "      <td>13.27</td>\n",
       "      <td>13.58</td>\n",
       "      <td>12.95</td>\n",
       "      <td>15.45</td>\n",
       "      <td>16.47</td>\n",
       "      <td>9.63</td>\n",
       "      <td>12.19</td>\n",
       "      <td>11.07</td>\n",
       "      <td>2021</td>\n",
       "      <td>아르헨티나</td>\n",
       "      <td>음식</td>\n",
       "    </tr>\n",
       "    <tr>\n",
       "      <th>2597</th>\n",
       "      <td>월평균 지출 금액($)</td>\n",
       "      <td>8.13</td>\n",
       "      <td>8.31</td>\n",
       "      <td>7.95</td>\n",
       "      <td>9.89</td>\n",
       "      <td>7.56</td>\n",
       "      <td>7.25</td>\n",
       "      <td>8.67</td>\n",
       "      <td>7.30</td>\n",
       "      <td>2021</td>\n",
       "      <td>아르헨티나</td>\n",
       "      <td>음식</td>\n",
       "    </tr>\n",
       "  </tbody>\n",
       "</table>\n",
       "<p>2598 rows × 12 columns</p>\n",
       "</div>"
      ],
      "text/plain": [
       "               IEM_NM  ALL_TOTAL_CO  MALE_RATE  FEMALE_RATE  ALL_N10S_RATE  \\\n",
       "0     한국 문화콘텐츠 소비(시간)         18.18      16.65        19.69          22.03   \n",
       "1            소비 비중(%)         29.37      27.92        30.80          29.99   \n",
       "2        월평균 지출 금액($)          7.46       8.12         6.82           6.08   \n",
       "3     한국 문화콘텐츠 소비(시간)         13.29      11.76        14.76          14.25   \n",
       "4            소비 비중(%)         28.46      25.52        31.29          24.85   \n",
       "...               ...           ...        ...          ...            ...   \n",
       "2593     월평균 지출 금액($)          8.54       8.50         8.57           8.80   \n",
       "2594         소비 비중(%)         18.67      20.35        18.02          17.82   \n",
       "2595     월평균 지출 금액($)          8.41       9.01         8.17           9.34   \n",
       "2596         소비 비중(%)         13.27      13.58        12.95          15.45   \n",
       "2597     월평균 지출 금액($)          8.13       8.31         7.95           9.89   \n",
       "\n",
       "      ALL_N20S_RATE  ALL_N30S_RATE  ALL_N40S_RATE  ALL_N50S_RATE  \\\n",
       "0             20.68          13.26          13.44          19.87   \n",
       "1             31.80          26.40          28.36          30.91   \n",
       "2              7.14           6.42           5.46          20.56   \n",
       "3             13.65          13.17           8.31          15.45   \n",
       "4             27.79          28.91          30.65          37.55   \n",
       "...             ...            ...            ...            ...   \n",
       "2593           9.11           8.48           8.55           7.02   \n",
       "2594          21.56          18.71          13.50          13.00   \n",
       "2595           7.66           9.86           7.42           4.96   \n",
       "2596          16.47           9.63          12.19          11.07   \n",
       "2597           7.56           7.25           8.67           7.30   \n",
       "\n",
       "     REPRT_YEAR_CN EXAMIN_COUNTRY_NM CNTNTS_URL  \n",
       "0             2021                중국        드라마  \n",
       "1             2021                중국        드라마  \n",
       "2             2021                중국        드라마  \n",
       "3             2021                중국         예능  \n",
       "4             2021                중국         예능  \n",
       "...            ...               ...        ...  \n",
       "2593          2021             아르헨티나         패션  \n",
       "2594          2021             아르헨티나         뷰티  \n",
       "2595          2021             아르헨티나         뷰티  \n",
       "2596          2021             아르헨티나         음식  \n",
       "2597          2021             아르헨티나         음식  \n",
       "\n",
       "[2598 rows x 12 columns]"
      ]
     },
     "execution_count": 9,
     "metadata": {},
     "output_type": "execute_result"
    }
   ],
   "source": [
    "data"
   ]
  },
  {
   "cell_type": "code",
   "execution_count": 4,
   "id": "7aac5f57-46f9-4841-b7e4-cb2d3fe4a5f1",
   "metadata": {},
   "outputs": [],
   "source": [
    "#년도에 따라 소비비중의 차이가 있는지를 확인하기 위해, 2020년 2021년으로 데이터를 나눔\n",
    "data=data[data[\"IEM_NM\"]==\"소비 비중(%)\"]\n",
    "\n",
    "data=data[[\"EXAMIN_COUNTRY_NM\",\"CNTNTS_URL\",\"ALL_TOTAL_CO\",\"REPRT_YEAR_CN\"]]\n",
    "\n",
    "data_2021=data[data[\"REPRT_YEAR_CN\"]==\"2021\"]\n",
    "data_2020=data[data[\"REPRT_YEAR_CN\"]==\"2020\"]"
   ]
  },
  {
   "cell_type": "code",
   "execution_count": 33,
   "id": "f46039b3-3838-41fc-8b35-09148dda994a",
   "metadata": {},
   "outputs": [
    {
     "name": "stderr",
     "output_type": "stream",
     "text": [
      "C:\\Users\\김규리\\AppData\\Roaming\\Python\\Python39\\site-packages\\IPython\\core\\pylabtools.py:132: UserWarning: Glyph 8722 (\\N{MINUS SIGN}) missing from current font.\n",
      "  fig.canvas.print_figure(bytes_io, **kw)\n"
     ]
    },
    {
     "data": {
      "image/png": "[encoded data removed]",
      "text/plain": [
       "<Figure size 432x288 with 1 Axes>"
      ]
     },
     "metadata": {
      "needs_background": "light"
     },
     "output_type": "display_data"
    }
   ],
   "source": [
    "import statsmodels.api as sm\n",
    "#정규성 검사\n",
    "#2021년 데이터\n",
    "fig=sm.qqplot(data_2021[\"ALL_TOTAL_CO\"], line='45',fit=True)\n",
    "plt.show()"
   ]
  },
  {
   "cell_type": "code",
   "execution_count": 34,
   "id": "245585a7-3d91-4edc-8894-f75ee149d0b4",
   "metadata": {},
   "outputs": [
    {
     "data": {
      "text/plain": [
       "ShapiroResult(statistic=0.9942094087600708, pvalue=0.6393151879310608)"
      ]
     },
     "execution_count": 34,
     "metadata": {},
     "output_type": "execute_result"
    }
   ],
   "source": [
    "from scipy.stats import shapiro\n",
    "#정확하게 알아보기 위해 shapiro test진행\n",
    "shapiro(data_2021[\"ALL_TOTAL_CO\"])"
   ]
  },
  {
   "cell_type": "code",
   "execution_count": 35,
   "id": "cbf19353-d7d9-4c11-849b-e188ac0cddd3",
   "metadata": {},
   "outputs": [
    {
     "data": {
      "image/png": "[encoded data removed]",
      "text/plain": [
       "<Figure size 432x288 with 1 Axes>"
      ]
     },
     "metadata": {
      "needs_background": "light"
     },
     "output_type": "display_data"
    }
   ],
   "source": [
    "#2020년 데이터\n",
    "fig=sm.qqplot(data_2020[\"ALL_TOTAL_CO\"], line='45',fit=True)\n",
    "plt.show()\n",
    "#qq-plot을 그려보았을 때, 직선을 기준으로 벗어난 데이터가 있으므로 정규성을 따른다고 보기 어렵다"
   ]
  },
  {
   "cell_type": "code",
   "execution_count": 36,
   "id": "df9f0801-7c1c-4ab0-bb42-5ff6de003462",
   "metadata": {},
   "outputs": [
    {
     "data": {
      "text/plain": [
       "ShapiroResult(statistic=0.8925575017929077, pvalue=9.320400007339913e-10)"
      ]
     },
     "execution_count": 36,
     "metadata": {},
     "output_type": "execute_result"
    }
   ],
   "source": [
    "#정확하게 알아보기 위해 shapiro test진행\n",
    "shapiro(data_2020[\"ALL_TOTAL_CO\"])"
   ]
  },
  {
   "cell_type": "code",
   "execution_count": null,
   "id": "7401a4ed-3884-47ea-94e9-009c8f3ead37",
   "metadata": {},
   "outputs": [],
   "source": []
  },
  {
   "cell_type": "code",
   "execution_count": 37,
   "id": "4fd77558-36b1-4229-b529-7b7ee3874bd3",
   "metadata": {},
   "outputs": [
    {
     "name": "stdout",
     "output_type": "stream",
     "text": [
      "23.290202020202035 23.309411764705885 22.73 21.45\n"
     ]
    },
    {
     "name": "stderr",
     "output_type": "stream",
     "text": [
      "C:\\Anaconda3\\envs\\statenv\\lib\\site-packages\\seaborn\\distributions.py:2619: FutureWarning: `distplot` is a deprecated function and will be removed in a future version. Please adapt your code to use either `displot` (a figure-level function with similar flexibility) or `histplot` (an axes-level function for histograms).\n",
      "  warnings.warn(msg, FutureWarning)\n",
      "C:\\Anaconda3\\envs\\statenv\\lib\\site-packages\\seaborn\\distributions.py:2619: FutureWarning: `distplot` is a deprecated function and will be removed in a future version. Please adapt your code to use either `displot` (a figure-level function with similar flexibility) or `histplot` (an axes-level function for histograms).\n",
      "  warnings.warn(msg, FutureWarning)\n"
     ]
    },
    {
     "data": {
      "image/png": "[encoded data removed]",
      "text/plain": [
       "<Figure size 432x288 with 1 Axes>"
      ]
     },
     "metadata": {
      "needs_background": "light"
     },
     "output_type": "display_data"
    }
   ],
   "source": [
    "fig,ax=plt.subplots()\n",
    "sns.distplot(data_2021[\"ALL_TOTAL_CO\"],ax=ax)\n",
    "sns.distplot(data_2020[\"ALL_TOTAL_CO\"],ax=ax)\n",
    "print(np.mean(data_2021[\"ALL_TOTAL_CO\"]),np.mean(data_2020[\"ALL_TOTAL_CO\"]),np.median(data_2021[\"ALL_TOTAL_CO\"]),np.median(data_2020[\"ALL_TOTAL_CO\"]))\n",
    "\n",
    "#distplot을 그려봄"
   ]
  },
  {
   "cell_type": "code",
   "execution_count": null,
   "id": "9aebb851-9298-4fdc-9820-00f40f1ca8cf",
   "metadata": {},
   "outputs": [],
   "source": []
  },
  {
   "cell_type": "code",
   "execution_count": null,
   "id": "07ac3303-88e3-4d7a-9178-b84036c646e7",
   "metadata": {},
   "outputs": [],
   "source": []
  },
  {
   "cell_type": "code",
   "execution_count": 17,
   "id": "66d5ecb8-d86c-41da-924e-7af6ea4ae13e",
   "metadata": {},
   "outputs": [
    {
     "data": {
      "text/plain": [
       "BartlettResult(statistic=23.66623771369452, pvalue=1.145750632131179e-06)"
      ]
     },
     "execution_count": 17,
     "metadata": {},
     "output_type": "execute_result"
    }
   ],
   "source": [
    "#등분산성 검사\n",
    "#bartlett이용\n",
    "stats.bartlett(data_2021[\"ALL_TOTAL_CO\"],data_2020[\"ALL_TOTAL_CO\"])"
   ]
  },
  {
   "cell_type": "code",
   "execution_count": 18,
   "id": "38274b8b-e1e1-4441-b318-fa5bbaa843f4",
   "metadata": {},
   "outputs": [
    {
     "data": {
      "text/plain": [
       "LeveneResult(statistic=6.4375254033389755, pvalue=0.011587824246663188)"
      ]
     },
     "execution_count": 18,
     "metadata": {},
     "output_type": "execute_result"
    }
   ],
   "source": [
    "stats.levene(data_2021[\"ALL_TOTAL_CO\"],data_2020[\"ALL_TOTAL_CO\"])"
   ]
  },
  {
   "cell_type": "code",
   "execution_count": 17,
   "id": "9797974d-dcaa-400d-b48a-331f369075e1",
   "metadata": {},
   "outputs": [],
   "source": [
    "#distplot을 그려보았을 때 분포의 차이가 보였으며, 정규성 검사를 하였을 때 2020년 데이터가 정규성을 따르지 않음을 확인할 수 있다\n",
    "#bartlett과 levene 둘다 모두 p값은 0.05보다 낮게 나옴\n",
    "#그러나 충분한 표본수가 확보되었기 때문에 중심극한정리에 의해 정규분포를 띈다고 가정하여 모수적인 방법을 수행해본다.\n",
    "#따라서 2021년 2020년 모두 정규분포를 띈다고 가정하고, levene에 의해 p값이 0.05보다 작으므로 two sample t-test를 진행함"
   ]
  },
  {
   "cell_type": "code",
   "execution_count": 5,
   "id": "bdbd40e1-1023-40a9-9ece-3f680e8de2af",
   "metadata": {},
   "outputs": [
    {
     "data": {
      "text/plain": [
       "Ttest_indResult(statistic=-0.02221492185618527, pvalue=0.9822915249648404)"
      ]
     },
     "execution_count": 5,
     "metadata": {},
     "output_type": "execute_result"
    }
   ],
   "source": [
    "#년도별로 비교하여 k-컨텐츠의 소비 비중 차이가 있는지를 확인해보기 위한 test를 해줌\n",
    "stats.ttest_ind(data_2021[\"ALL_TOTAL_CO\"],data_2020[\"ALL_TOTAL_CO\"],equal_var=False)"
   ]
  },
  {
   "cell_type": "code",
   "execution_count": null,
   "id": "744828f8-2354-413b-8101-fa781f2cdfe5",
   "metadata": {},
   "outputs": [],
   "source": []
  },
  {
   "cell_type": "code",
   "execution_count": null,
   "id": "33a67e4d-c5d1-4f3f-94b1-033563e40170",
   "metadata": {},
   "outputs": [],
   "source": []
  },
  {
   "cell_type": "code",
   "execution_count": null,
   "id": "5639debc-8c85-42fd-9931-92f2cac7cabd",
   "metadata": {},
   "outputs": [],
   "source": []
  },
  {
   "cell_type": "code",
   "execution_count": 38,
   "id": "ba88eaf0-6580-4d46-896a-3c4391bf1189",
   "metadata": {},
   "outputs": [
    {
     "name": "stderr",
     "output_type": "stream",
     "text": [
      "C:\\Anaconda3\\envs\\statenv\\lib\\site-packages\\seaborn\\categorical.py:1296: UserWarning: 9.1% of the points cannot be placed; you may want to decrease the size of the markers or use stripplot.\n",
      "  warnings.warn(msg, UserWarning)\n"
     ]
    },
    {
     "data": {
      "image/png": "[encoded data removed]",
      "text/plain": [
       "<Figure size 720x360 with 1 Axes>"
      ]
     },
     "metadata": {
      "needs_background": "light"
     },
     "output_type": "display_data"
    }
   ],
   "source": [
    "import matplotlib as mpl\n",
    "mpl.rcParams['font.family']='NanumGothic'\n",
    "\n",
    "fig=sns.catplot(x=\"EXAMIN_COUNTRY_NM\", y=\"ALL_TOTAL_CO\", hue=\"CNTNTS_URL\", data=data_2021, kind=\"swarm\")\n",
    "fig.fig.set_size_inches(10,5)\n",
    "plt.xticks(rotation=45)\n",
    "plt.show()\n",
    "\n",
    "#2021년을 기준으로 18개국의 k-컨텐츠 소비 비중을 분석해보았을 때\n",
    "#대부분 국가에서 1등이 드라마"
   ]
  },
  {
   "cell_type": "code",
   "execution_count": 23,
   "id": "f4573286-3ee0-4c73-8233-63e0846d5d9f",
   "metadata": {},
   "outputs": [
    {
     "data": {
      "text/plain": [
       "17.45611111111111"
      ]
     },
     "execution_count": 23,
     "metadata": {},
     "output_type": "execute_result"
    }
   ],
   "source": [
    "drama = data[data[\"CNTNTS_URL\"]==\"드라마\"][\"ALL_TOTAL_CO\"].mean()\n",
    "entertain = data[data[\"CNTNTS_URL\"]==\"예능\"][\"ALL_TOTAL_CO\"].mean()\n",
    "movie = data[data[\"CNTNTS_URL\"]==\"영화\"][\"ALL_TOTAL_CO\"].mean()\n",
    "music = data[data[\"CNTNTS_URL\"]==\"음악\"][\"ALL_TOTAL_CO\"].mean()\n",
    "anima = data[data[\"CNTNTS_URL\"]==\"애니메이션\"][\"ALL_TOTAL_CO\"].mean()\n",
    "book = data[data[\"CNTNTS_URL\"]==\"도서\"][\"ALL_TOTAL_CO\"].mean()\n",
    "webtoon = data[data[\"CNTNTS_URL\"]==\"웹툰\"][\"ALL_TOTAL_CO\"].mean()\n",
    "game = data[data[\"CNTNTS_URL\"]==\"게임\"][\"ALL_TOTAL_CO\"].mean()\n",
    "fashion = data[data[\"CNTNTS_URL\"]==\"패션\"][\"ALL_TOTAL_CO\"].mean()\n",
    "beauty = data[data[\"CNTNTS_URL\"]==\"뷰티\"][\"ALL_TOTAL_CO\"].mean()\n",
    "food = data[data[\"CNTNTS_URL\"]==\"음식\"][\"ALL_TOTAL_CO\"].mean()\n",
    "food"
   ]
  },
  {
   "cell_type": "code",
   "execution_count": 24,
   "id": "f66ccaf8-3b7b-485e-ae4b-b4f904708a2f",
   "metadata": {},
   "outputs": [
    {
     "data": {
      "text/plain": [
       "<AxesSubplot:xlabel='콘텐츠'>"
      ]
     },
     "execution_count": 24,
     "metadata": {},
     "output_type": "execute_result"
    },
    {
     "data": {
      "image/png": "[encoded data removed]",
      "text/plain": [
       "<Figure size 432x288 with 1 Axes>"
      ]
     },
     "metadata": {
      "needs_background": "light"
     },
     "output_type": "display_data"
    }
   ],
   "source": [
    "content = [\"드라마\", \"예능\", \"영화\", \"음악\", \"애니메이션\", \"도서\", \"웹툰\", \"게임\", \"패션\", \"뷰티\", \"음식\"]\n",
    "mean = [drama, entertain, movie, music, anima, book, webtoon, game, fashion, beauty, food]\n",
    "\n",
    "plt.rcParams[\"font.family\"]=\"NanumGothic\"\n",
    "\n",
    "df = pd.DataFrame({\"콘텐츠\":content, \"소비 비중 (%)\":mean})\n",
    "df = df.sort_values(by=[\"소비 비중 (%)\"], ascending=False)\n",
    "df.plot.bar(x=\"콘텐츠\", y=\"소비 비중 (%)\")\n",
    "#콘텐츠 별 소비 비중 퍼센티지 bar그래프"
   ]
  },
  {
   "cell_type": "code",
   "execution_count": 71,
   "id": "a0ac780a-4e71-4b0f-9d2e-7a1804f946b0",
   "metadata": {},
   "outputs": [],
   "source": []
  },
  {
   "cell_type": "code",
   "execution_count": null,
   "id": "7c2aeb74-6ec7-4488-ae4f-afd44ea7ddff",
   "metadata": {},
   "outputs": [],
   "source": []
  },
  {
   "cell_type": "code",
   "execution_count": null,
   "id": "18d6c7e1-f35a-4814-8141-2c63fde8c1d0",
   "metadata": {},
   "outputs": [],
   "source": []
  },
  {
   "cell_type": "code",
   "execution_count": null,
   "id": "033bb351-5393-47a0-882a-6a56bfdb2fc5",
   "metadata": {},
   "outputs": [],
   "source": []
  },
  {
   "cell_type": "code",
   "execution_count": null,
   "id": "7484b6f0-705a-459a-8787-2d7ae6c85771",
   "metadata": {},
   "outputs": [],
   "source": []
  }
 ],
 "metadata": {
  "kernelspec": {
   "display_name": "stat",
   "language": "python",
   "name": "statenv"
  },
  "language_info": {
   "codemirror_mode": {
    "name": "ipython",
    "version": 3
   },
   "file_extension": ".py",
   "mimetype": "text/x-python",
   "name": "python",
   "nbconvert_exporter": "python",
   "pygments_lexer": "ipython3",
   "version": "3.9.0"
  }
 },
 "nbformat": 4,
 "nbformat_minor": 5
}
