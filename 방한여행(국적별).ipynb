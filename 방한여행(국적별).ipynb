{
 "cells": [
  {
   "cell_type": "code",
   "execution_count": 3,
   "id": "cebd7bf2-f48c-4dbb-8801-3795a8749844",
   "metadata": {},
   "outputs": [],
   "source": [
    "import pandas as pd\n",
    "import seaborn as sns\n",
    "import numpy as np\n",
    "from scipy import stats\n",
    "import matplotlib.pyplot as plt "
   ]
  },
  {
   "cell_type": "code",
   "execution_count": 4,
   "id": "19eaa19b-8e20-4c82-8497-688ff3ea1652",
   "metadata": {},
   "outputs": [],
   "source": [
    "data_1=pd.read_csv(\"2021_1_방한여행(국적별).csv\")\n",
    "data_2=pd.read_csv(\"2021_2_방한여행(국적별).csv\")\n",
    "data_3=pd.read_csv(\"2021_3_방한여행(국적별).csv\")\n",
    "data_4=pd.read_csv(\"2021_4_방한여행(국적별).csv\")\n",
    "data_5=pd.read_csv(\"2021_5_방한여행(국적별).csv\")\n",
    "data_6=pd.read_csv(\"2021_6_방한여행(국적별).csv\")\n",
    "data_7=pd.read_csv(\"2021_7_방한여행(국적별).csv\")\n",
    "data_8=pd.read_csv(\"2021_8_방한여행(국적별).csv\")\n",
    "data_9=pd.read_csv(\"2021_9_방한여행(국적별).csv\")\n",
    "data_10=pd.read_csv(\"2021_10_방한여행(국적별).csv\")\n",
    "data_11=pd.read_csv(\"2021_11_방한여행(국적별).csv\")\n",
    "data_12=pd.read_csv(\"2021_12_방한여행(국적별).csv\")"
   ]
  },
  {
   "cell_type": "code",
   "execution_count": 14,
   "id": "0190a914-ae38-4f9a-8d4a-e8dee0f4b971",
   "metadata": {},
   "outputs": [
    {
     "data": {
      "text/html": [
       "<div>\n",
       "<style scoped>\n",
       "    .dataframe tbody tr th:only-of-type {\n",
       "        vertical-align: middle;\n",
       "    }\n",
       "\n",
       "    .dataframe tbody tr th {\n",
       "        vertical-align: top;\n",
       "    }\n",
       "\n",
       "    .dataframe thead th {\n",
       "        text-align: right;\n",
       "    }\n",
       "</style>\n",
       "<table border=\"1\" class=\"dataframe\">\n",
       "  <thead>\n",
       "    <tr style=\"text-align: right;\">\n",
       "      <th></th>\n",
       "      <th>국적</th>\n",
       "      <th>방한관광객</th>\n",
       "    </tr>\n",
       "  </thead>\n",
       "  <tbody>\n",
       "    <tr>\n",
       "      <th>0</th>\n",
       "      <td>미국</td>\n",
       "      <td>12013</td>\n",
       "    </tr>\n",
       "    <tr>\n",
       "      <th>1</th>\n",
       "      <td>필리핀</td>\n",
       "      <td>8087</td>\n",
       "    </tr>\n",
       "    <tr>\n",
       "      <th>2</th>\n",
       "      <td>중국</td>\n",
       "      <td>7346</td>\n",
       "    </tr>\n",
       "    <tr>\n",
       "      <th>3</th>\n",
       "      <td>미얀마</td>\n",
       "      <td>5249</td>\n",
       "    </tr>\n",
       "    <tr>\n",
       "      <th>4</th>\n",
       "      <td>인도네시아</td>\n",
       "      <td>3193</td>\n",
       "    </tr>\n",
       "  </tbody>\n",
       "</table>\n",
       "</div>"
      ],
      "text/plain": [
       "      국적  방한관광객\n",
       "0     미국  12013\n",
       "1    필리핀   8087\n",
       "2     중국   7346\n",
       "3    미얀마   5249\n",
       "4  인도네시아   3193"
      ]
     },
     "execution_count": 14,
     "metadata": {},
     "output_type": "execute_result"
    }
   ],
   "source": [
    "data_1"
   ]
  },
  {
   "cell_type": "code",
   "execution_count": null,
   "id": "c0c95dc0-6e65-4e5c-8563-b29768321819",
   "metadata": {},
   "outputs": [],
   "source": []
  },
  {
   "cell_type": "code",
   "execution_count": 5,
   "id": "24597991-6d4f-4793-a5c2-935bea32a681",
   "metadata": {},
   "outputs": [],
   "source": [
    "data_1['월']=\"1월\"\n",
    "data_2['월']=\"2월\"\n",
    "data_3['월']=\"3월\"\n",
    "data_4['월']=\"4월\"\n",
    "data_5['월']=\"5월\"\n",
    "data_6['월']=\"6월\"\n",
    "data_7['월']=\"7월\"\n",
    "data_8['월']=\"8월\"\n",
    "data_9['월']=\"9월\"\n",
    "data_10['월']=\"10월\"\n",
    "data_11['월']=\"11월\"\n",
    "data_12['월']=\"12월\""
   ]
  },
  {
   "cell_type": "code",
   "execution_count": 7,
   "id": "550b06c5-a305-479f-955f-9afaebaab775",
   "metadata": {},
   "outputs": [
    {
     "data": {
      "text/html": [
       "<div>\n",
       "<style scoped>\n",
       "    .dataframe tbody tr th:only-of-type {\n",
       "        vertical-align: middle;\n",
       "    }\n",
       "\n",
       "    .dataframe tbody tr th {\n",
       "        vertical-align: top;\n",
       "    }\n",
       "\n",
       "    .dataframe thead th {\n",
       "        text-align: right;\n",
       "    }\n",
       "</style>\n",
       "<table border=\"1\" class=\"dataframe\">\n",
       "  <thead>\n",
       "    <tr style=\"text-align: right;\">\n",
       "      <th></th>\n",
       "      <th>국적</th>\n",
       "      <th>방한관광객</th>\n",
       "      <th>월</th>\n",
       "    </tr>\n",
       "  </thead>\n",
       "  <tbody>\n",
       "    <tr>\n",
       "      <th>0</th>\n",
       "      <td>미국</td>\n",
       "      <td>12013</td>\n",
       "      <td>1월</td>\n",
       "    </tr>\n",
       "    <tr>\n",
       "      <th>1</th>\n",
       "      <td>필리핀</td>\n",
       "      <td>8087</td>\n",
       "      <td>1월</td>\n",
       "    </tr>\n",
       "    <tr>\n",
       "      <th>2</th>\n",
       "      <td>중국</td>\n",
       "      <td>7346</td>\n",
       "      <td>1월</td>\n",
       "    </tr>\n",
       "    <tr>\n",
       "      <th>3</th>\n",
       "      <td>미얀마</td>\n",
       "      <td>5249</td>\n",
       "      <td>1월</td>\n",
       "    </tr>\n",
       "    <tr>\n",
       "      <th>4</th>\n",
       "      <td>인도네시아</td>\n",
       "      <td>3193</td>\n",
       "      <td>1월</td>\n",
       "    </tr>\n",
       "  </tbody>\n",
       "</table>\n",
       "</div>"
      ],
      "text/plain": [
       "      국적  방한관광객   월\n",
       "0     미국  12013  1월\n",
       "1    필리핀   8087  1월\n",
       "2     중국   7346  1월\n",
       "3    미얀마   5249  1월\n",
       "4  인도네시아   3193  1월"
      ]
     },
     "execution_count": 7,
     "metadata": {},
     "output_type": "execute_result"
    }
   ],
   "source": [
    "data=pd.concat([data_1,data_2,data_3,data_4,data_5,data_6,data_7,data_8,data_9,data_10,data_11,data_12,],axis=0)\n",
    "data.reset_index(drop=True,inplace=True)\n",
    "data.head()"
   ]
  },
  {
   "cell_type": "code",
   "execution_count": 11,
   "id": "145a96a6-fb30-4832-81ad-c79d60b21682",
   "metadata": {},
   "outputs": [
    {
     "data": {
      "text/plain": [
       "<AxesSubplot:xlabel='월', ylabel='방한관광객'>"
      ]
     },
     "execution_count": 11,
     "metadata": {},
     "output_type": "execute_result"
    },
    {
     "data": {
      "image/png": "[encoded data removed]",
      "text/plain": [
       "<Figure size 432x288 with 1 Axes>"
      ]
     },
     "metadata": {
      "needs_background": "light"
     },
     "output_type": "display_data"
    }
   ],
   "source": [
    "import matplotlib as mpl\n",
    "mpl.rcParams['font.family']='NanumGothic'\n",
    "\n",
    "sns.lineplot(x=\"월\", y=\"방한관광객\", hue=\"국적\", data=data)\n",
    "\n",
    "#시각적으로 확인해봤을 때, 2021년기준 미국이 방한관광객수가 높다고 파악됨"
   ]
  },
  {
   "cell_type": "code",
   "execution_count": null,
   "id": "5b12bada-c2f7-4532-b6d5-302ba02c7e2f",
   "metadata": {},
   "outputs": [],
   "source": [
    "#시각적으로 확인해봤을 때, 미국의 방한관광객수가 더 높은 것으로 보이지만 중국이 미국보다 2월과 3월은 더 방한여행객 수가 높기 때문에 정확한 판단을 위해 두 집단간의 t-test를 진행함"
   ]
  },
  {
   "cell_type": "code",
   "execution_count": 13,
   "id": "25bf0d03-6680-49e7-b529-2602b6c96345",
   "metadata": {},
   "outputs": [],
   "source": [
    "data_usa=data[data[\"국적\"]==\"미국\"]\n",
    "data_ch=data[data[\"국적\"]==\"중국\"]"
   ]
  },
  {
   "cell_type": "code",
   "execution_count": 14,
   "id": "694a693a-774f-4b33-a2fd-8e2d0b5f1c78",
   "metadata": {},
   "outputs": [
    {
     "data": {
      "text/plain": [
       "ShapiroResult(statistic=0.8916367292404175, pvalue=0.12370870262384415)"
      ]
     },
     "execution_count": 14,
     "metadata": {},
     "output_type": "execute_result"
    }
   ],
   "source": [
    "from scipy.stats import shapiro\n",
    "shapiro(data_usa[\"방한관광객\"])\n",
    "#정규성 있음"
   ]
  },
  {
   "cell_type": "code",
   "execution_count": 15,
   "id": "c02ba3fb-f6df-4986-8277-d18b7315d112",
   "metadata": {},
   "outputs": [
    {
     "data": {
      "text/plain": [
       "ShapiroResult(statistic=0.945271372795105, pvalue=0.569201648235321)"
      ]
     },
     "execution_count": 15,
     "metadata": {},
     "output_type": "execute_result"
    }
   ],
   "source": [
    "shapiro(data_ch[\"방한관광객\"])\n",
    "#정규성 있음"
   ]
  },
  {
   "cell_type": "code",
   "execution_count": 16,
   "id": "26ee1e71-f08c-4de6-9e2c-c14f0a0b219a",
   "metadata": {},
   "outputs": [
    {
     "data": {
      "text/plain": [
       "BartlettResult(statistic=0.23190766245478323, pvalue=0.6301129191443275)"
      ]
     },
     "execution_count": 16,
     "metadata": {},
     "output_type": "execute_result"
    }
   ],
   "source": [
    "stats.bartlett(data_usa[\"방한관광객\"],data_ch[\"방한관광객\"])\n",
    "#등분산성 만족"
   ]
  },
  {
   "cell_type": "code",
   "execution_count": 17,
   "id": "3685eb06-ba1c-44c9-b05d-1ed3762114dc",
   "metadata": {},
   "outputs": [
    {
     "data": {
      "text/plain": [
       "Ttest_indResult(statistic=1.8829424523288663, pvalue=0.0729984934591116)"
      ]
     },
     "execution_count": 17,
     "metadata": {},
     "output_type": "execute_result"
    }
   ],
   "source": [
    "from scipy.stats import ttest_ind\n",
    "ttest_ind(data_usa[\"방한관광객\"],data_ch[\"방한관광객\"])\n",
    "#데이터 간의 유의미한 차이가 있음\n",
    "#따라서 미국을 기준으로 2021년 방한 목적에 대해 분석해봄"
   ]
  },
  {
   "cell_type": "code",
   "execution_count": null,
   "id": "670b7639-b97a-4d9d-84eb-9dab39f0ba7c",
   "metadata": {},
   "outputs": [],
   "source": []
  }
 ],
 "metadata": {
  "kernelspec": {
   "display_name": "stat",
   "language": "python",
   "name": "statenv"
  },
  "language_info": {
   "codemirror_mode": {
    "name": "ipython",
    "version": 3
   },
   "file_extension": ".py",
   "mimetype": "text/x-python",
   "name": "python",
   "nbconvert_exporter": "python",
   "pygments_lexer": "ipython3",
   "version": "3.9.0"
  }
 },
 "nbformat": 4,
 "nbformat_minor": 5
}
