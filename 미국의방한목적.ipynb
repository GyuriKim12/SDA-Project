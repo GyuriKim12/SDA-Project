{
 "cells": [
  {
   "cell_type": "code",
   "execution_count": 2,
   "id": "7dd4f129-d98e-4d28-9747-f49ef13d5df5",
   "metadata": {},
   "outputs": [],
   "source": [
    "import pandas as pd\n",
    "import seaborn as sns\n",
    "import numpy as np\n",
    "from scipy import stats\n",
    "import matplotlib.pyplot as plt "
   ]
  },
  {
   "cell_type": "code",
   "execution_count": 3,
   "id": "38ed689e-e28f-4fcd-9c11-e82d1a9446c4",
   "metadata": {},
   "outputs": [],
   "source": [
    "data_1=pd.read_csv(\"2021_1_미국 방한목적.csv\")\n",
    "data_2=pd.read_csv(\"2021_2_미국 방한목적.csv\")\n",
    "data_3=pd.read_csv(\"2021_3_미국 방한목적.csv\")\n",
    "data_4=pd.read_csv(\"2021_4_미국 방한목적.csv\")\n",
    "data_5=pd.read_csv(\"2021_5_미국 방한목적.csv\")\n",
    "data_6=pd.read_csv(\"2021_6_미국 방한목적.csv\")\n",
    "data_7=pd.read_csv(\"2021_7_미국 방한목적.csv\")\n",
    "data_8=pd.read_csv(\"2021_8_미국 방한목적.csv\")\n",
    "data_9=pd.read_csv(\"2021_9_미국 방한목적.csv\")\n",
    "data_10=pd.read_csv(\"2021_10_미국 방한목적.csv\")\n",
    "data_11=pd.read_csv(\"2021_11_미국 방한목적.csv\")\n",
    "data_12=pd.read_csv(\"2021_12_미국 방한목적.csv\")"
   ]
  },
  {
   "cell_type": "code",
   "execution_count": 4,
   "id": "702b730f-b95a-47b1-b1bc-81311a8ccdef",
   "metadata": {},
   "outputs": [],
   "source": [
    "data_1['월']=\"1월\"\n",
    "data_2['월']=\"2월\"\n",
    "data_3['월']=\"3월\"\n",
    "data_4['월']=\"4월\"\n",
    "data_5['월']=\"5월\"\n",
    "data_6['월']=\"6월\"\n",
    "data_7['월']=\"7월\"\n",
    "data_8['월']=\"8월\"\n",
    "data_9['월']=\"9월\"\n",
    "data_10['월']=\"10월\"\n",
    "data_11['월']=\"11월\"\n",
    "data_12['월']=\"12월\""
   ]
  },
  {
   "cell_type": "code",
   "execution_count": 7,
   "id": "a853a4a1-12dd-47de-8a09-48a519ad3ed1",
   "metadata": {},
   "outputs": [
    {
     "data": {
      "text/html": [
       "<div>\n",
       "<style scoped>\n",
       "    .dataframe tbody tr th:only-of-type {\n",
       "        vertical-align: middle;\n",
       "    }\n",
       "\n",
       "    .dataframe tbody tr th {\n",
       "        vertical-align: top;\n",
       "    }\n",
       "\n",
       "    .dataframe thead th {\n",
       "        text-align: right;\n",
       "    }\n",
       "</style>\n",
       "<table border=\"1\" class=\"dataframe\">\n",
       "  <thead>\n",
       "    <tr style=\"text-align: right;\">\n",
       "      <th></th>\n",
       "      <th>구분</th>\n",
       "      <th>방한 외래관광객</th>\n",
       "      <th>비율</th>\n",
       "      <th>월</th>\n",
       "    </tr>\n",
       "  </thead>\n",
       "  <tbody>\n",
       "    <tr>\n",
       "      <th>0</th>\n",
       "      <td>관      광</td>\n",
       "      <td>2242</td>\n",
       "      <td>18.7</td>\n",
       "      <td>1월</td>\n",
       "    </tr>\n",
       "    <tr>\n",
       "      <th>1</th>\n",
       "      <td>유학연수</td>\n",
       "      <td>82</td>\n",
       "      <td>0.7</td>\n",
       "      <td>1월</td>\n",
       "    </tr>\n",
       "    <tr>\n",
       "      <th>2</th>\n",
       "      <td>공      용</td>\n",
       "      <td>814</td>\n",
       "      <td>6.8</td>\n",
       "      <td>1월</td>\n",
       "    </tr>\n",
       "    <tr>\n",
       "      <th>3</th>\n",
       "      <td>상      용</td>\n",
       "      <td>85</td>\n",
       "      <td>0.7</td>\n",
       "      <td>1월</td>\n",
       "    </tr>\n",
       "    <tr>\n",
       "      <th>4</th>\n",
       "      <td>기      타</td>\n",
       "      <td>8790</td>\n",
       "      <td>73.2</td>\n",
       "      <td>1월</td>\n",
       "    </tr>\n",
       "  </tbody>\n",
       "</table>\n",
       "</div>"
      ],
      "text/plain": [
       "         구분  방한 외래관광객    비율   월\n",
       "0  관      광      2242  18.7  1월\n",
       "1      유학연수        82   0.7  1월\n",
       "2  공      용       814   6.8  1월\n",
       "3  상      용        85   0.7  1월\n",
       "4  기      타      8790  73.2  1월"
      ]
     },
     "execution_count": 7,
     "metadata": {},
     "output_type": "execute_result"
    }
   ],
   "source": [
    "data=pd.concat([data_1,data_2,data_3,data_4,data_5,data_6,data_7,data_8,data_9,data_10,data_11,data_12,],axis=0)\n",
    "data.reset_index(drop=True,inplace=True)\n",
    "\n",
    "data.head()"
   ]
  },
  {
   "cell_type": "code",
   "execution_count": 17,
   "id": "d92270cc-77e3-4afa-8e4c-cefcf1395357",
   "metadata": {},
   "outputs": [
    {
     "data": {
      "image/png": "[encoded data removed]",
      "text/plain": [
       "<Figure size 720x360 with 1 Axes>"
      ]
     },
     "metadata": {
      "needs_background": "light"
     },
     "output_type": "display_data"
    }
   ],
   "source": [
    "import matplotlib as mpl\n",
    "mpl.rcParams['font.family']='NanumGothic'\n",
    "\n",
    "fig=sns.catplot(x=\"월\", y=\"방한 외래관광객\", hue=\"구분\", data=data, kind=\"swarm\")\n",
    "fig.fig.set_size_inches(10,5)\n",
    "plt.xticks(rotation=45)\n",
    "plt.show()\n",
    "\n",
    "#plot을 그려보면 관광객중에서 기타로 인해 방한목적을 한 것이 가장 높게 나타나는데, 기타는 관광, 유학연수, 공용, 상용 이외의 이유로 오는 것들을 다 합한 값이기 때문에, 실질적으로 가장 많이 오는 이유는 관광 때문인 것으로 보여진다\n",
    "#달별로 관광으로 오는 미국인들의 차이가 있는 것으로 보이는데, 어느정도의 차이가 있는지를 확인하기 위해 test를 진행해본다"
   ]
  },
  {
   "cell_type": "code",
   "execution_count": null,
   "id": "0a6e1819-259a-45b9-8d5b-fc6cb735f4f9",
   "metadata": {},
   "outputs": [],
   "source": []
  },
  {
   "cell_type": "code",
   "execution_count": null,
   "id": "2cb017a5-7dc2-46c4-9d67-cae7e6af16cc",
   "metadata": {},
   "outputs": [],
   "source": []
  }
 ],
 "metadata": {
  "kernelspec": {
   "display_name": "stat",
   "language": "python",
   "name": "statenv"
  },
  "language_info": {
   "codemirror_mode": {
    "name": "ipython",
    "version": 3
   },
   "file_extension": ".py",
   "mimetype": "text/x-python",
   "name": "python",
   "nbconvert_exporter": "python",
   "pygments_lexer": "ipython3",
   "version": "3.9.0"
  }
 },
 "nbformat": 4,
 "nbformat_minor": 5
}
